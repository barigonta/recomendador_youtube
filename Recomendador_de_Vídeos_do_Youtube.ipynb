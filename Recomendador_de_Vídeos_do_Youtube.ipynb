{
  "nbformat": 4,
  "nbformat_minor": 0,
  "metadata": {
    "colab": {
      "name": "Recomendador de Vídeos do Youtube.ipynb",
      "provenance": [],
      "authorship_tag": "ABX9TyPP8xuHbfTSF3OE5Eh3eBcy",
      "include_colab_link": true
    },
    "kernelspec": {
      "display_name": "Python 3",
      "name": "python3"
    },
    "language_info": {
      "name": "python"
    }
  },
  "cells": [
    {
      "cell_type": "markdown",
      "metadata": {
        "id": "view-in-github",
        "colab_type": "text"
      },
      "source": [
        "<a href=\"https://colab.research.google.com/github/FerrazThales/recomendador_youtube/blob/main/Recomendador_de_V%C3%ADdeos_do_Youtube.ipynb\" target=\"_parent\"><img src=\"https://colab.research.google.com/assets/colab-badge.svg\" alt=\"Open In Colab\"/></a>"
      ]
    },
    {
      "cell_type": "markdown",
      "metadata": {
        "id": "XuPl34eUHqRu"
      },
      "source": [
        "#Identificação do Problema\n",
        "falar do projeto"
      ]
    },
    {
      "cell_type": "code",
      "metadata": {
        "id": "BEvU5aGuKkqd"
      },
      "source": [
        "#utilizando os pacotes necessários\n",
        "import numpy as np\n",
        "import pandas as pd\n",
        "import matplotlib.pyplot as plt"
      ],
      "execution_count": null,
      "outputs": []
    },
    {
      "cell_type": "markdown",
      "metadata": {
        "id": "AFB5jG_mL4yx"
      },
      "source": [
        "#Preparação dos Dados\n",
        "\n",
        "falar de scraping e enunciar as principais bibliotecas\n",
        "\n",
        "* BeatifoulSoup\n",
        "* Scrapy\n",
        "* usar o youtube_dl << ver se alguém já resolveu este problema para você. "
      ]
    },
    {
      "cell_type": "code",
      "metadata": {
        "colab": {
          "base_uri": "https://localhost:8080/"
        },
        "id": "q2RLY0erHrQE",
        "outputId": "ff1d1402-1aab-4d60-ac36-8bcf0879aa2b"
      },
      "source": [
        "#instalando a biblioteca de extração de dados do youtube\n",
        "!pip install youtube_dl -q"
      ],
      "execution_count": null,
      "outputs": [
        {
          "name": "stdout",
          "output_type": "stream",
          "text": [
            "Collecting youtube_dl\n",
            "  Downloading youtube_dl-2021.6.6-py2.py3-none-any.whl (1.9 MB)\n",
            "\u001b[K     |████████████████████████████████| 1.9 MB 5.1 MB/s \n",
            "\u001b[?25hInstalling collected packages: youtube-dl\n",
            "Successfully installed youtube-dl-2021.6.6\n"
          ]
        }
      ]
    },
    {
      "cell_type": "markdown",
      "metadata": {
        "id": "1PVn8wGlS930"
      },
      "source": [
        "texto sobre o youtube_dl"
      ]
    },
    {
      "cell_type": "code",
      "metadata": {
        "id": "g5QcSfXrKzkt"
      },
      "source": [
        "#importando a biblioteca do youtube_dl\n",
        "import youtube_dl\n",
        "\n",
        "# instanciando o youtube_dl, além do YT é possível escolher outros sites\n",
        "ydl = youtube_dl.YoutubeDL(params={'ignoreerrors':True})\n",
        "\n",
        "#palavras chave que serão buscadas no YT\n",
        "palavras_chave = ['cortes+podcast']"
      ],
      "execution_count": null,
      "outputs": []
    },
    {
      "cell_type": "markdown",
      "metadata": {
        "id": "_Xj0cx0rZ9Wj"
      },
      "source": [
        "texto explicando"
      ]
    },
    {
      "cell_type": "code",
      "metadata": {
        "colab": {
          "base_uri": "https://localhost:8080/"
        },
        "id": "NPyBDT_kYdme",
        "outputId": "775b0aa0-56eb-4d8a-8bda-9e38eac8e7d5"
      },
      "source": [
        "resultados = ydl.extract_info(f'ytsearch10:{palavras_chave}',download=False)"
      ],
      "execution_count": null,
      "outputs": [
        {
          "name": "stdout",
          "output_type": "stream",
          "text": [
            "[download] Downloading playlist: ['cortes+podcast']\n",
            "[youtube:search] query \"['cortes+podcast']\": Downloading page 1\n",
            "[youtube:search] playlist ['cortes+podcast']: Downloading 10 videos\n",
            "[download] Downloading video 1 of 10\n",
            "[youtube] NLdPK_F8n44: Downloading webpage\n",
            "[download] Downloading video 2 of 10\n",
            "[youtube] IumGmo_xiqM: Downloading webpage\n",
            "[download] Downloading video 3 of 10\n",
            "[youtube] Lk2VOLq92BE: Downloading webpage\n",
            "[download] Downloading video 4 of 10\n",
            "[youtube] DDwr-OD0CPE: Downloading webpage\n",
            "[download] Downloading video 5 of 10\n",
            "[youtube] 1HHsESB4KfM: Downloading webpage\n",
            "[download] Downloading video 6 of 10\n",
            "[youtube] 0Wg_LaCd4KY: Downloading webpage\n",
            "[download] Downloading video 7 of 10\n",
            "[youtube] ztd8wM0Go7Q: Downloading webpage\n",
            "[download] Downloading video 8 of 10\n",
            "[youtube] Tg2MfVUzvwo: Downloading webpage\n",
            "[download] Downloading video 9 of 10\n",
            "[youtube] FgSCnUneGug: Downloading webpage\n",
            "[download] Downloading video 10 of 10\n",
            "[youtube] pdXTRyED7bI: Downloading webpage\n",
            "[download] Finished downloading playlist: ['cortes+podcast']\n"
          ]
        }
      ]
    },
    {
      "cell_type": "code",
      "metadata": {
        "colab": {
          "base_uri": "https://localhost:8080/",
          "height": 143
        },
        "id": "RuszczjGaBjX",
        "outputId": "4ebe84c3-cb18-4ab3-9ea5-de9bd4779f66"
      },
      "source": [
        "#cria um Dataframe com os resultados\n",
        "df_resultados = pd.DataFrame(resultados)\n",
        "df_resultados.head(3)"
      ],
      "execution_count": null,
      "outputs": [
        {
          "data": {
            "text/html": [
              "<div>\n",
              "<style scoped>\n",
              "    .dataframe tbody tr th:only-of-type {\n",
              "        vertical-align: middle;\n",
              "    }\n",
              "\n",
              "    .dataframe tbody tr th {\n",
              "        vertical-align: top;\n",
              "    }\n",
              "\n",
              "    .dataframe thead th {\n",
              "        text-align: right;\n",
              "    }\n",
              "</style>\n",
              "<table border=\"1\" class=\"dataframe\">\n",
              "  <thead>\n",
              "    <tr style=\"text-align: right;\">\n",
              "      <th></th>\n",
              "      <th>_type</th>\n",
              "      <th>entries</th>\n",
              "      <th>id</th>\n",
              "      <th>extractor</th>\n",
              "      <th>webpage_url</th>\n",
              "      <th>webpage_url_basename</th>\n",
              "      <th>extractor_key</th>\n",
              "    </tr>\n",
              "  </thead>\n",
              "  <tbody>\n",
              "    <tr>\n",
              "      <th>0</th>\n",
              "      <td>playlist</td>\n",
              "      <td>{'id': 'NLdPK_F8n44', 'title': 'COMO UM POLICI...</td>\n",
              "      <td>['cortes+podcast']</td>\n",
              "      <td>youtube:search</td>\n",
              "      <td>ytsearch10:['cortes+podcast']</td>\n",
              "      <td>['cortes+podcast']</td>\n",
              "      <td>YoutubeSearch</td>\n",
              "    </tr>\n",
              "    <tr>\n",
              "      <th>1</th>\n",
              "      <td>playlist</td>\n",
              "      <td>{'id': 'IumGmo_xiqM', 'title': 'AS NOITADAS AT...</td>\n",
              "      <td>['cortes+podcast']</td>\n",
              "      <td>youtube:search</td>\n",
              "      <td>ytsearch10:['cortes+podcast']</td>\n",
              "      <td>['cortes+podcast']</td>\n",
              "      <td>YoutubeSearch</td>\n",
              "    </tr>\n",
              "    <tr>\n",
              "      <th>2</th>\n",
              "      <td>playlist</td>\n",
              "      <td>{'id': 'Lk2VOLq92BE', 'title': 'FOI LÁ NO FUND...</td>\n",
              "      <td>['cortes+podcast']</td>\n",
              "      <td>youtube:search</td>\n",
              "      <td>ytsearch10:['cortes+podcast']</td>\n",
              "      <td>['cortes+podcast']</td>\n",
              "      <td>YoutubeSearch</td>\n",
              "    </tr>\n",
              "  </tbody>\n",
              "</table>\n",
              "</div>"
            ],
            "text/plain": [
              "      _type  ...  extractor_key\n",
              "0  playlist  ...  YoutubeSearch\n",
              "1  playlist  ...  YoutubeSearch\n",
              "2  playlist  ...  YoutubeSearch\n",
              "\n",
              "[3 rows x 7 columns]"
            ]
          },
          "execution_count": 52,
          "metadata": {},
          "output_type": "execute_result"
        }
      ]
    },
    {
      "cell_type": "code",
      "metadata": {
        "colab": {
          "base_uri": "https://localhost:8080/",
          "height": 305
        },
        "id": "FtZIstb3N_ek",
        "outputId": "11530ed3-8abc-4d43-8376-ae614c9c6080"
      },
      "source": [
        "pd.DataFrame(r['entries']).head(2)"
      ],
      "execution_count": null,
      "outputs": [
        {
          "data": {
            "text/html": [
              "<div>\n",
              "<style scoped>\n",
              "    .dataframe tbody tr th:only-of-type {\n",
              "        vertical-align: middle;\n",
              "    }\n",
              "\n",
              "    .dataframe tbody tr th {\n",
              "        vertical-align: top;\n",
              "    }\n",
              "\n",
              "    .dataframe thead th {\n",
              "        text-align: right;\n",
              "    }\n",
              "</style>\n",
              "<table border=\"1\" class=\"dataframe\">\n",
              "  <thead>\n",
              "    <tr style=\"text-align: right;\">\n",
              "      <th></th>\n",
              "      <th>id</th>\n",
              "      <th>title</th>\n",
              "      <th>formats</th>\n",
              "      <th>thumbnails</th>\n",
              "      <th>description</th>\n",
              "      <th>upload_date</th>\n",
              "      <th>uploader</th>\n",
              "      <th>uploader_id</th>\n",
              "      <th>uploader_url</th>\n",
              "      <th>channel_id</th>\n",
              "      <th>channel_url</th>\n",
              "      <th>duration</th>\n",
              "      <th>view_count</th>\n",
              "      <th>average_rating</th>\n",
              "      <th>age_limit</th>\n",
              "      <th>webpage_url</th>\n",
              "      <th>categories</th>\n",
              "      <th>tags</th>\n",
              "      <th>is_live</th>\n",
              "      <th>automatic_captions</th>\n",
              "      <th>subtitles</th>\n",
              "      <th>like_count</th>\n",
              "      <th>channel</th>\n",
              "      <th>extractor</th>\n",
              "      <th>webpage_url_basename</th>\n",
              "      <th>extractor_key</th>\n",
              "      <th>n_entries</th>\n",
              "      <th>playlist</th>\n",
              "      <th>playlist_id</th>\n",
              "      <th>playlist_title</th>\n",
              "      <th>playlist_uploader</th>\n",
              "      <th>playlist_uploader_id</th>\n",
              "      <th>playlist_index</th>\n",
              "      <th>thumbnail</th>\n",
              "      <th>display_id</th>\n",
              "      <th>requested_subtitles</th>\n",
              "      <th>requested_formats</th>\n",
              "      <th>format</th>\n",
              "      <th>format_id</th>\n",
              "      <th>width</th>\n",
              "      <th>height</th>\n",
              "      <th>resolution</th>\n",
              "      <th>fps</th>\n",
              "      <th>vcodec</th>\n",
              "      <th>vbr</th>\n",
              "      <th>stretched_ratio</th>\n",
              "      <th>acodec</th>\n",
              "      <th>abr</th>\n",
              "      <th>ext</th>\n",
              "    </tr>\n",
              "  </thead>\n",
              "  <tbody>\n",
              "    <tr>\n",
              "      <th>0</th>\n",
              "      <td>B0RAmbhwslY</td>\n",
              "      <td>REFORÇOS DE PESO NO VERDÃO!!! ABEL JA PEDIU QU...</td>\n",
              "      <td>[{'asr': 48000, 'filesize': 2571595, 'format_i...</td>\n",
              "      <td>[{'height': 94, 'url': 'https://i.ytimg.com/vi...</td>\n",
              "      <td>🐷 E aí Família Palestrina, tuuudo bem com você...</td>\n",
              "      <td>20211204</td>\n",
              "      <td>CANAL JP PALMEIRAS</td>\n",
              "      <td>UCb6iLl_NMdZgXoe-_LBYEJA</td>\n",
              "      <td>http://www.youtube.com/channel/UCb6iLl_NMdZgXo...</td>\n",
              "      <td>UCb6iLl_NMdZgXoe-_LBYEJA</td>\n",
              "      <td>https://www.youtube.com/channel/UCb6iLl_NMdZgX...</td>\n",
              "      <td>407</td>\n",
              "      <td>9697</td>\n",
              "      <td>4.934931</td>\n",
              "      <td>0</td>\n",
              "      <td>https://www.youtube.com/watch?v=B0RAmbhwslY</td>\n",
              "      <td>[Sports]</td>\n",
              "      <td>[palmeiras, ultimas noticias do palmeiras, pal...</td>\n",
              "      <td>None</td>\n",
              "      <td>{'af': [{'ext': 'srv1', 'url': 'https://www.yo...</td>\n",
              "      <td>{}</td>\n",
              "      <td>1149</td>\n",
              "      <td>CANAL JP PALMEIRAS</td>\n",
              "      <td>youtube</td>\n",
              "      <td>B0RAmbhwslY</td>\n",
              "      <td>Youtube</td>\n",
              "      <td>5</td>\n",
              "      <td>'palmeiras'</td>\n",
              "      <td>'palmeiras'</td>\n",
              "      <td>None</td>\n",
              "      <td>None</td>\n",
              "      <td>None</td>\n",
              "      <td>1</td>\n",
              "      <td>https://i.ytimg.com/vi/B0RAmbhwslY/maxresdefau...</td>\n",
              "      <td>B0RAmbhwslY</td>\n",
              "      <td>None</td>\n",
              "      <td>({'asr': None, 'filesize': 51489437, 'format_i...</td>\n",
              "      <td>398 - 1280x720 (720p)+140 - audio only (tiny)</td>\n",
              "      <td>398+140</td>\n",
              "      <td>1280</td>\n",
              "      <td>720</td>\n",
              "      <td>None</td>\n",
              "      <td>30</td>\n",
              "      <td>av01.0.05M.08.0.110.05.01.06.0</td>\n",
              "      <td>1013.489</td>\n",
              "      <td>None</td>\n",
              "      <td>mp4a.40.2</td>\n",
              "      <td>129.485</td>\n",
              "      <td>mp4</td>\n",
              "    </tr>\n",
              "    <tr>\n",
              "      <th>1</th>\n",
              "      <td>Q01kk12_4ek</td>\n",
              "      <td>REFORÇOS PARA O VERDÃO | QUAL A POSIÇÃO MAIS C...</td>\n",
              "      <td>[{'asr': 48000, 'filesize': 3377787, 'format_i...</td>\n",
              "      <td>[{'height': 94, 'url': 'https://i.ytimg.com/vi...</td>\n",
              "      <td>🐷 E aí Família Palestrina, tuuudo bem com você...</td>\n",
              "      <td>20211203</td>\n",
              "      <td>CANAL JP PALMEIRAS</td>\n",
              "      <td>UCb6iLl_NMdZgXoe-_LBYEJA</td>\n",
              "      <td>http://www.youtube.com/channel/UCb6iLl_NMdZgXo...</td>\n",
              "      <td>UCb6iLl_NMdZgXoe-_LBYEJA</td>\n",
              "      <td>https://www.youtube.com/channel/UCb6iLl_NMdZgX...</td>\n",
              "      <td>531</td>\n",
              "      <td>18136</td>\n",
              "      <td>4.963928</td>\n",
              "      <td>0</td>\n",
              "      <td>https://www.youtube.com/watch?v=Q01kk12_4ek</td>\n",
              "      <td>[Sports]</td>\n",
              "      <td>[palmeiras, ultimas noticias do palmeiras, pal...</td>\n",
              "      <td>None</td>\n",
              "      <td>{'af': [{'ext': 'srv1', 'url': 'https://www.yo...</td>\n",
              "      <td>{}</td>\n",
              "      <td>989</td>\n",
              "      <td>CANAL JP PALMEIRAS</td>\n",
              "      <td>youtube</td>\n",
              "      <td>Q01kk12_4ek</td>\n",
              "      <td>Youtube</td>\n",
              "      <td>5</td>\n",
              "      <td>'palmeiras'</td>\n",
              "      <td>'palmeiras'</td>\n",
              "      <td>None</td>\n",
              "      <td>None</td>\n",
              "      <td>None</td>\n",
              "      <td>2</td>\n",
              "      <td>https://i.ytimg.com/vi/Q01kk12_4ek/maxresdefau...</td>\n",
              "      <td>Q01kk12_4ek</td>\n",
              "      <td>None</td>\n",
              "      <td>({'asr': None, 'filesize': 62858776, 'format_i...</td>\n",
              "      <td>398 - 1280x720 (720p)+140 - audio only (tiny)</td>\n",
              "      <td>398+140</td>\n",
              "      <td>1280</td>\n",
              "      <td>720</td>\n",
              "      <td>None</td>\n",
              "      <td>30</td>\n",
              "      <td>av01.0.05M.08.0.110.05.01.06.0</td>\n",
              "      <td>947.442</td>\n",
              "      <td>None</td>\n",
              "      <td>mp4a.40.2</td>\n",
              "      <td>129.482</td>\n",
              "      <td>mp4</td>\n",
              "    </tr>\n",
              "  </tbody>\n",
              "</table>\n",
              "</div>"
            ],
            "text/plain": [
              "            id                                              title  ...      abr  ext\n",
              "0  B0RAmbhwslY  REFORÇOS DE PESO NO VERDÃO!!! ABEL JA PEDIU QU...  ...  129.485  mp4\n",
              "1  Q01kk12_4ek  REFORÇOS PARA O VERDÃO | QUAL A POSIÇÃO MAIS C...  ...  129.482  mp4\n",
              "\n",
              "[2 rows x 49 columns]"
            ]
          },
          "execution_count": 27,
          "metadata": {},
          "output_type": "execute_result"
        }
      ]
    },
    {
      "cell_type": "code",
      "metadata": {
        "id": "x4hL5bpFN_qy"
      },
      "source": [
        "#features utilizadas: title, upload_date,view_count,dias_desde_upload em dias, colocar a query"
      ],
      "execution_count": null,
      "outputs": []
    },
    {
      "cell_type": "code",
      "metadata": {
        "id": "GzN-om51N_s-"
      },
      "source": [
        ""
      ],
      "execution_count": null,
      "outputs": []
    },
    {
      "cell_type": "code",
      "metadata": {
        "id": "FmgcZxaqN_tx"
      },
      "source": [
        ""
      ],
      "execution_count": null,
      "outputs": []
    }
  ]
}