{
  "nbformat": 4,
  "nbformat_minor": 0,
  "metadata": {
    "colab": {
      "name": "Recomendador de Vídeos do Youtube.ipynb",
      "provenance": [],
      "authorship_tag": "ABX9TyOrbSoltlZS1H0dQaBqv6vs",
      "include_colab_link": true
    },
    "kernelspec": {
      "display_name": "Python 3",
      "name": "python3"
    },
    "language_info": {
      "name": "python"
    }
  },
  "cells": [
    {
      "cell_type": "markdown",
      "metadata": {
        "id": "view-in-github",
        "colab_type": "text"
      },
      "source": [
        "<a href=\"https://colab.research.google.com/github/FerrazThales/recomendador_youtube/blob/main/Recomendador_de_V%C3%ADdeos_do_Youtube.ipynb\" target=\"_parent\"><img src=\"https://colab.research.google.com/assets/colab-badge.svg\" alt=\"Open In Colab\"/></a>"
      ]
    },
    {
      "cell_type": "markdown",
      "metadata": {
        "id": "xXQ3oqRbm19l"
      },
      "source": [
        "<h1 align=\"center\"><b>Encontre eu e meus projetos nas redes sociais!</b></h1>\n",
        "<table>\n",
        "  <tr>\n",
        "  <td><a href=\"https://thalesferraz.medium.com/\">\n",
        "  <img src=\"https://github.com/FerrazThales/FerrazThales/blob/main/logo_gif.gif?raw=true\" width=\"800\" title=\"Olá, Meu nome é Thales e sou cientista de Dados!\"/>\n",
        "  </a>\n",
        "  </td>\n",
        "  <td><a href=\"https://github.com/FerrazThales\">\n",
        "  <img hspace=30 vspace=110 src=\"https://image.flaticon.com/icons/png/512/1051/1051326.png\" width=\"60%\" title=\"Entre em meu Github e veja mais projetos!\" /> \n",
        "  </a>\n",
        "  </td>\n",
        "  <td>\n",
        "  <a href=\"\">\n",
        "  <img vspace=110 src=\"https://download.logo.wine/logo/Medium_(website)/Medium_(website)-Logo.wine.png\" width=\"800\" title=\"Veja este meu projeto no Medium!\"/>\n",
        "  </a>\n",
        "  </td>\n",
        "  <td><a href=\"https://www.linkedin.com/in/thalesdefreitasferraz/\"><img vspace=150 src=\"https://image.flaticon.com/icons/png/512/889/889122.png\" width=\"40%\" title=\"Vamos trocar uma idéia sobre Data Science no LinkedIn?\" />\n",
        "  </a>\n",
        "  </td>\n",
        "  </tr>\n",
        "</table>"
      ]
    },
    {
      "cell_type": "markdown",
      "metadata": {
        "id": "73SuObeGcn54"
      },
      "source": [
        "Este projeto faz parte de um **desafio** proposto no [Curso de Data Science](https://curso.mariofilho.com/) do **Mario Filho**. \n",
        "\n",
        "O `Mario` possui o nobílissimo título de *Kaggle* **Grandmaster** e é, na minha opinião, o **melhor** Cientista de Dados do Brasil.\n",
        "\n",
        "Para mais informações sobre ele, procure em:\n",
        "\n",
        "* [LinkedIn](https://br.linkedin.com/in/mariofilho)\n",
        "* [Youtube](https://www.youtube.com/c/MarioFilhoML) <- *tem vídeo bom demais da conta*!\n",
        "* [Kaggle](https://www.kaggle.com/mariofilho)"
      ]
    },
    {
      "cell_type": "markdown",
      "metadata": {
        "id": "lI22EGfYtBOi"
      },
      "source": [
        "# O que você vai aprender neste projeto:\n",
        "\n",
        "* Como funciona os sistemas de **recomendação** do Youtube.\n",
        "* Uma **API** para realizar a extração das principais **features** dos vídeos.\n",
        "* O que é **Active Learning** e sua importância para o aprendizado **supervisionado**.\n",
        "* Diferentes algoritmos de **classificação**.\n",
        "* **Deploy** de um modelo de *Machine Learning* utilizando **Heroku**."
      ]
    },
    {
      "cell_type": "markdown",
      "metadata": {
        "id": "XuPl34eUHqRu"
      },
      "source": [
        "#Identificação do Problema\n",
        "\n",
        "Com o **aumento** de dados e usuários, os [sistemas de recomendação](https://www.analyticsvidhya.com/blog/2021/07/recommendation-system-understanding-the-basic-concepts/) se tornaram cada vez mais **relevantes** no cenário competitivo da *internet*. Hoje existem **variados** sistemas que se baseiam em **diferentes** técnicas que tentam acertar a **preferência** dos usuários da maneira mais exata possível. Estes **algoritmos** podem, por exemplo, se respaldar nos seus últimos **filmes** vistos ou **compras** realizadas. Ou até mesmo, pode **supor** que você faz parte de uma **comunidade** (*matemática*) **imaginária** que ama **vídeos** aleatórios de animais marinhos.\n",
        "\n",
        "Sabemos que errar é **humano**. Mas a experiência do dia a dia na rede nos aponta que os **algoritmos** também erram. Muitas **recomendações** são feitas porque várias pessoas caíram em [ClickBaits](https://rockcontent.com/br/blog/clickbait/) e o algoritmo **espera** (com altíssima estimativa de **probabilidade**) que você seja o **próximo**.\n",
        "\n",
        "Em geral, os sistemas de **recomendação** de vídeos são baseados nas **atividades** dos usuários nos sites. O mais **popular** site de vídeos do mundo, o [Youtube](https://www.youtube.com/), possuí muito conteúdo **personalizado** dos usuários para implementar um bom algoritmo de **recomendação**. No entanto, essa quantidade de dados também pode apresentar grandes **desafios** aos engenheiros de *machine learning*  do **Youtube**. \n",
        "\n",
        "[A cada minuto o Youtube recebe mais de 24 horas de upload](http://citeseerx.ist.psu.edu/viewdoc/download?doi=10.1.1.434.9301&rep=rep1&type=pdf). Mesmo já conhecendo algumas **labels** em seus sistemas, como: *like*, playlists, assitir mais tarde,*etc*. Combinar todas as *features* necessárias e associar a **regras** que ajudem em recomendações **assertivas** desconhecendo o conteúdo **real** desses novos vídeos é uma tarefa **árdua**.\n",
        "\n",
        "Por conta disso, desde **2008** o *Youtube* vem **aprimorando** o seu sistema de recomendação. A imagem abaixo ilustra os momentos **chave** da formulação deste sistema. [Fonte da imagem](https://blog.youtube/inside-youtube/on-youtubes-recommendation-system/)\n",
        "\n",
        "<center><img src=\"https://storage.googleapis.com/gweb-uniblog-publish-prod/images/BINK_YouTube_Recommendations_V5.max-1000x1000.png\" width=\"50%\"></center>\n",
        "\n",
        "Geralmente, após realizados todos ajustes necessários no algoritmo, o **Youtube** utiliza [testes estatísticos](https://resultadosdigitais.com.br/blog/o-que-e-teste-ab/) para avaliar a **perfomance** do sistema já em produção. Mas e se você pudesse de alguma forma **intervir** nisso? Ajudar a **refinar** um pouco mais este algoritmo e trazer uma **seleção** de vídeos mais **agradáveis** para você?\n",
        "\n",
        "Com estas ideias em mente, o **objetivo** deste projeto é **recriar** de uma forma simples o **algoritmo** de recomendação do **Youtube**. Inicialmente, nós utilizaremos uma `api`, o [youtube-dl](https://youtube-dl.org/), para extrair as **características** dos vídeos. A partir destes dados avaliaremos qual o vídeo é mais interessante de acordo com as minhas opiniões.\n"
      ]
    },
    {
      "cell_type": "code",
      "metadata": {
        "id": "BEvU5aGuKkqd"
      },
      "source": [
        "#utilizando os pacotes necessários\n",
        "import numpy as np\n",
        "import pandas as pd\n",
        "import matplotlib.pyplot as plt\n",
        "import seaborn as sns"
      ],
      "execution_count": 77,
      "outputs": []
    },
    {
      "cell_type": "markdown",
      "metadata": {
        "id": "AFB5jG_mL4yx"
      },
      "source": [
        "#Preparação dos Dados\n",
        "\n",
        "Quando não temos acesso **direto** aos dados em um arquivo em `excel` ou `csv`, por exemplo, podemos buscá-los na web através de uma técnica chamada de [Web Scraping](https://www.tecmundo.com.br/internet/215525-web-scraping-conheca-tecnica-coleta-dados.htm). Algumas bibliotecas do python nos ajudam muito neste empreitada:\n",
        "\n",
        "* [BeatifoulSoup](https://beautiful-soup-4.readthedocs.io/en/latest/) - Um pacote muito utilizado pelos cientistas de dados que nos ajuda a analisar documentos HTML e XML.\n",
        "* [Scrapy](https://scrapy.org/) -  Um framework que nos auxilia na extração de dados de websites de uma forma simples,direta e rápida.\n",
        "* [youtube_dl](https://github.com/ytdl-org/youtube-dl) - Geralmente é útil procurar como outras pessoas já resolveram os problemas, afinal o Web Scraping no Youtube não é algo tão incomum. O `youtube_dl` é uma *api* já preparada para o scraping neste site e será utilizada neste projeto."
      ]
    },
    {
      "cell_type": "code",
      "metadata": {
        "id": "q2RLY0erHrQE"
      },
      "source": [
        "#instalando a biblioteca de extração de dados do youtube\n",
        "!pip install youtube_dl -q"
      ],
      "execution_count": null,
      "outputs": []
    },
    {
      "cell_type": "markdown",
      "metadata": {
        "id": "1PVn8wGlS930"
      },
      "source": [
        "Lá em cima, já comentamos que iríamos usar uma `api` neste projeto. Utilizamos alguns **parâmetros** desta biblioteca para facilitar nossa análise:\n",
        "* `ignoreerrors`: ignora os erros para não travar a busca.\n",
        "* `quiet`: não printa cada iteração.\n",
        "* `no_warnings`: não printa os warnings da api.\n",
        "\n",
        "**Obs: você pode encontrar todos os parâmetros digitando:** `?youtube_dl.YoutubeDL`"
      ]
    },
    {
      "cell_type": "code",
      "metadata": {
        "id": "g5QcSfXrKzkt"
      },
      "source": [
        "#importando a biblioteca do youtube_dl\n",
        "import youtube_dl\n",
        "\n",
        "# instanciando o youtube_dl, além do YT é possível escolher outros sites\n",
        "ydl = youtube_dl.YoutubeDL(params={'ignoreerrors':True,'quiet':True, \n",
        "                                   'no_warnings':True})\n",
        "\n",
        "#palavras chave que serão buscadas no YT\n",
        "palavras_chave = ['cortes+podcast','podcast','cortes']"
      ],
      "execution_count": null,
      "outputs": []
    },
    {
      "cell_type": "code",
      "metadata": {
        "id": "NPyBDT_kYdme",
        "colab": {
          "base_uri": "https://localhost:8080/"
        },
        "outputId": "0456d56b-70bd-4c00-a336-710c46042e54"
      },
      "source": [
        "#extraindo JSONS das novas pesquisas\n",
        "resultados = []\n",
        "for palavra_chave in palavras_chave:\n",
        "    #download foi setado como False para não ser realizado o download do Vídeo\n",
        "    r = ydl.extract_info(f'ytsearchdate500:{palavra_chave}', download=False)\n",
        "    for entry in r['entries']:\n",
        "        #algumas entradas vêm vazias e não interessam para nossa análise\n",
        "        if entry is not None:\n",
        "            entry['key_word'] = palavra_chave\n",
        "    #guardar tudo em uma lista\n",
        "    resultados += r['entries']"
      ],
      "execution_count": null,
      "outputs": [
        {
          "output_type": "stream",
          "name": "stderr",
          "text": [
            "ERROR: Sign in to confirm your age\n",
            "This video may be inappropriate for some users.\n",
            "ERROR: No video formats found; please report this issue on https://yt-dl.org/bug . Make sure you are using the latest version; see  https://yt-dl.org/update  on how to update. Be sure to call youtube-dl with the --verbose flag and include its complete output.\n",
            "ERROR: No video formats found; please report this issue on https://yt-dl.org/bug . Make sure you are using the latest version; see  https://yt-dl.org/update  on how to update. Be sure to call youtube-dl with the --verbose flag and include its complete output.\n",
            "ERROR: No video formats found; please report this issue on https://yt-dl.org/bug . Make sure you are using the latest version; see  https://yt-dl.org/update  on how to update. Be sure to call youtube-dl with the --verbose flag and include its complete output.\n",
            "ERROR: No video formats found; please report this issue on https://yt-dl.org/bug . Make sure you are using the latest version; see  https://yt-dl.org/update  on how to update. Be sure to call youtube-dl with the --verbose flag and include its complete output.\n",
            "ERROR: No video formats found; please report this issue on https://yt-dl.org/bug . Make sure you are using the latest version; see  https://yt-dl.org/update  on how to update. Be sure to call youtube-dl with the --verbose flag and include its complete output.\n",
            "ERROR: Sign in to confirm your age\n",
            "This video may be inappropriate for some users.\n",
            "ERROR: No video formats found; please report this issue on https://yt-dl.org/bug . Make sure you are using the latest version; see  https://yt-dl.org/update  on how to update. Be sure to call youtube-dl with the --verbose flag and include its complete output.\n",
            "ERROR: No video formats found; please report this issue on https://yt-dl.org/bug . Make sure you are using the latest version; see  https://yt-dl.org/update  on how to update. Be sure to call youtube-dl with the --verbose flag and include its complete output.\n",
            "ERROR: No video formats found; please report this issue on https://yt-dl.org/bug . Make sure you are using the latest version; see  https://yt-dl.org/update  on how to update. Be sure to call youtube-dl with the --verbose flag and include its complete output.\n",
            "ERROR: Sign in to confirm your age\n",
            "This video may be inappropriate for some users.\n",
            "ERROR: No video formats found; please report this issue on https://yt-dl.org/bug . Make sure you are using the latest version; see  https://yt-dl.org/update  on how to update. Be sure to call youtube-dl with the --verbose flag and include its complete output.\n",
            "ERROR: No video formats found; please report this issue on https://yt-dl.org/bug . Make sure you are using the latest version; see  https://yt-dl.org/update  on how to update. Be sure to call youtube-dl with the --verbose flag and include its complete output.\n",
            "ERROR: No video formats found; please report this issue on https://yt-dl.org/bug . Make sure you are using the latest version; see  https://yt-dl.org/update  on how to update. Be sure to call youtube-dl with the --verbose flag and include its complete output.\n",
            "ERROR: No video formats found; please report this issue on https://yt-dl.org/bug . Make sure you are using the latest version; see  https://yt-dl.org/update  on how to update. Be sure to call youtube-dl with the --verbose flag and include its complete output.\n",
            "ERROR: No video formats found; please report this issue on https://yt-dl.org/bug . Make sure you are using the latest version; see  https://yt-dl.org/update  on how to update. Be sure to call youtube-dl with the --verbose flag and include its complete output.\n",
            "ERROR: No video formats found; please report this issue on https://yt-dl.org/bug . Make sure you are using the latest version; see  https://yt-dl.org/update  on how to update. Be sure to call youtube-dl with the --verbose flag and include its complete output.\n",
            "ERROR: No video formats found; please report this issue on https://yt-dl.org/bug . Make sure you are using the latest version; see  https://yt-dl.org/update  on how to update. Be sure to call youtube-dl with the --verbose flag and include its complete output.\n",
            "ERROR: Sign in to confirm your age\n",
            "This video may be inappropriate for some users.\n",
            "ERROR: No video formats found; please report this issue on https://yt-dl.org/bug . Make sure you are using the latest version; see  https://yt-dl.org/update  on how to update. Be sure to call youtube-dl with the --verbose flag and include its complete output.\n",
            "ERROR: Sign in to confirm your age\n",
            "This video may be inappropriate for some users.\n",
            "ERROR: Sign in to confirm your age\n",
            "This video may be inappropriate for some users.\n",
            "ERROR: No video formats found; please report this issue on https://yt-dl.org/bug . Make sure you are using the latest version; see  https://yt-dl.org/update  on how to update. Be sure to call youtube-dl with the --verbose flag and include its complete output.\n",
            "ERROR: This video requires payment to watch.\n",
            "ERROR: No video formats found; please report this issue on https://yt-dl.org/bug . Make sure you are using the latest version; see  https://yt-dl.org/update  on how to update. Be sure to call youtube-dl with the --verbose flag and include its complete output.\n",
            "ERROR: This video requires payment to watch.\n",
            "ERROR: This video requires payment to watch.\n",
            "ERROR: This video requires payment to watch.\n",
            "ERROR: No video formats found; please report this issue on https://yt-dl.org/bug . Make sure you are using the latest version; see  https://yt-dl.org/update  on how to update. Be sure to call youtube-dl with the --verbose flag and include its complete output.\n",
            "ERROR: Sign in to confirm your age\n",
            "This video may be inappropriate for some users.\n",
            "ERROR: No video formats found; please report this issue on https://yt-dl.org/bug . Make sure you are using the latest version; see  https://yt-dl.org/update  on how to update. Be sure to call youtube-dl with the --verbose flag and include its complete output.\n",
            "ERROR: No video formats found; please report this issue on https://yt-dl.org/bug . Make sure you are using the latest version; see  https://yt-dl.org/update  on how to update. Be sure to call youtube-dl with the --verbose flag and include its complete output.\n",
            "ERROR: No video formats found; please report this issue on https://yt-dl.org/bug . Make sure you are using the latest version; see  https://yt-dl.org/update  on how to update. Be sure to call youtube-dl with the --verbose flag and include its complete output.\n",
            "ERROR: No video formats found; please report this issue on https://yt-dl.org/bug . Make sure you are using the latest version; see  https://yt-dl.org/update  on how to update. Be sure to call youtube-dl with the --verbose flag and include its complete output.\n",
            "ERROR: No video formats found; please report this issue on https://yt-dl.org/bug . Make sure you are using the latest version; see  https://yt-dl.org/update  on how to update. Be sure to call youtube-dl with the --verbose flag and include its complete output.\n",
            "ERROR: Sign in to confirm your age\n",
            "This video may be inappropriate for some users.\n",
            "ERROR: No video formats found; please report this issue on https://yt-dl.org/bug . Make sure you are using the latest version; see  https://yt-dl.org/update  on how to update. Be sure to call youtube-dl with the --verbose flag and include its complete output.\n",
            "ERROR: No video formats found; please report this issue on https://yt-dl.org/bug . Make sure you are using the latest version; see  https://yt-dl.org/update  on how to update. Be sure to call youtube-dl with the --verbose flag and include its complete output.\n",
            "ERROR: No video formats found; please report this issue on https://yt-dl.org/bug . Make sure you are using the latest version; see  https://yt-dl.org/update  on how to update. Be sure to call youtube-dl with the --verbose flag and include its complete output.\n",
            "ERROR: No video formats found; please report this issue on https://yt-dl.org/bug . Make sure you are using the latest version; see  https://yt-dl.org/update  on how to update. Be sure to call youtube-dl with the --verbose flag and include its complete output.\n",
            "ERROR: No video formats found; please report this issue on https://yt-dl.org/bug . Make sure you are using the latest version; see  https://yt-dl.org/update  on how to update. Be sure to call youtube-dl with the --verbose flag and include its complete output.\n",
            "ERROR: No video formats found; please report this issue on https://yt-dl.org/bug . Make sure you are using the latest version; see  https://yt-dl.org/update  on how to update. Be sure to call youtube-dl with the --verbose flag and include its complete output.\n",
            "ERROR: No video formats found; please report this issue on https://yt-dl.org/bug . Make sure you are using the latest version; see  https://yt-dl.org/update  on how to update. Be sure to call youtube-dl with the --verbose flag and include its complete output.\n",
            "ERROR: No video formats found; please report this issue on https://yt-dl.org/bug . Make sure you are using the latest version; see  https://yt-dl.org/update  on how to update. Be sure to call youtube-dl with the --verbose flag and include its complete output.\n",
            "ERROR: No video formats found; please report this issue on https://yt-dl.org/bug . Make sure you are using the latest version; see  https://yt-dl.org/update  on how to update. Be sure to call youtube-dl with the --verbose flag and include its complete output.\n",
            "ERROR: No video formats found; please report this issue on https://yt-dl.org/bug . Make sure you are using the latest version; see  https://yt-dl.org/update  on how to update. Be sure to call youtube-dl with the --verbose flag and include its complete output.\n",
            "ERROR: No video formats found; please report this issue on https://yt-dl.org/bug . Make sure you are using the latest version; see  https://yt-dl.org/update  on how to update. Be sure to call youtube-dl with the --verbose flag and include its complete output.\n",
            "ERROR: No video formats found; please report this issue on https://yt-dl.org/bug . Make sure you are using the latest version; see  https://yt-dl.org/update  on how to update. Be sure to call youtube-dl with the --verbose flag and include its complete output.\n",
            "ERROR: No video formats found; please report this issue on https://yt-dl.org/bug . Make sure you are using the latest version; see  https://yt-dl.org/update  on how to update. Be sure to call youtube-dl with the --verbose flag and include its complete output.\n",
            "ERROR: No video formats found; please report this issue on https://yt-dl.org/bug . Make sure you are using the latest version; see  https://yt-dl.org/update  on how to update. Be sure to call youtube-dl with the --verbose flag and include its complete output.\n",
            "ERROR: No video formats found; please report this issue on https://yt-dl.org/bug . Make sure you are using the latest version; see  https://yt-dl.org/update  on how to update. Be sure to call youtube-dl with the --verbose flag and include its complete output.\n",
            "ERROR: No video formats found; please report this issue on https://yt-dl.org/bug . Make sure you are using the latest version; see  https://yt-dl.org/update  on how to update. Be sure to call youtube-dl with the --verbose flag and include its complete output.\n",
            "ERROR: No video formats found; please report this issue on https://yt-dl.org/bug . Make sure you are using the latest version; see  https://yt-dl.org/update  on how to update. Be sure to call youtube-dl with the --verbose flag and include its complete output.\n",
            "ERROR: No video formats found; please report this issue on https://yt-dl.org/bug . Make sure you are using the latest version; see  https://yt-dl.org/update  on how to update. Be sure to call youtube-dl with the --verbose flag and include its complete output.\n",
            "ERROR: No video formats found; please report this issue on https://yt-dl.org/bug . Make sure you are using the latest version; see  https://yt-dl.org/update  on how to update. Be sure to call youtube-dl with the --verbose flag and include its complete output.\n",
            "ERROR: No video formats found; please report this issue on https://yt-dl.org/bug . Make sure you are using the latest version; see  https://yt-dl.org/update  on how to update. Be sure to call youtube-dl with the --verbose flag and include its complete output.\n",
            "ERROR: No video formats found; please report this issue on https://yt-dl.org/bug . Make sure you are using the latest version; see  https://yt-dl.org/update  on how to update. Be sure to call youtube-dl with the --verbose flag and include its complete output.\n",
            "ERROR: No video formats found; please report this issue on https://yt-dl.org/bug . Make sure you are using the latest version; see  https://yt-dl.org/update  on how to update. Be sure to call youtube-dl with the --verbose flag and include its complete output.\n",
            "ERROR: No video formats found; please report this issue on https://yt-dl.org/bug . Make sure you are using the latest version; see  https://yt-dl.org/update  on how to update. Be sure to call youtube-dl with the --verbose flag and include its complete output.\n",
            "ERROR: No video formats found; please report this issue on https://yt-dl.org/bug . Make sure you are using the latest version; see  https://yt-dl.org/update  on how to update. Be sure to call youtube-dl with the --verbose flag and include its complete output.\n",
            "ERROR: No video formats found; please report this issue on https://yt-dl.org/bug . Make sure you are using the latest version; see  https://yt-dl.org/update  on how to update. Be sure to call youtube-dl with the --verbose flag and include its complete output.\n",
            "ERROR: No video formats found; please report this issue on https://yt-dl.org/bug . Make sure you are using the latest version; see  https://yt-dl.org/update  on how to update. Be sure to call youtube-dl with the --verbose flag and include its complete output.\n",
            "ERROR: No video formats found; please report this issue on https://yt-dl.org/bug . Make sure you are using the latest version; see  https://yt-dl.org/update  on how to update. Be sure to call youtube-dl with the --verbose flag and include its complete output.\n",
            "ERROR: No video formats found; please report this issue on https://yt-dl.org/bug . Make sure you are using the latest version; see  https://yt-dl.org/update  on how to update. Be sure to call youtube-dl with the --verbose flag and include its complete output.\n",
            "ERROR: No video formats found; please report this issue on https://yt-dl.org/bug . Make sure you are using the latest version; see  https://yt-dl.org/update  on how to update. Be sure to call youtube-dl with the --verbose flag and include its complete output.\n",
            "ERROR: No video formats found; please report this issue on https://yt-dl.org/bug . Make sure you are using the latest version; see  https://yt-dl.org/update  on how to update. Be sure to call youtube-dl with the --verbose flag and include its complete output.\n",
            "ERROR: Sign in to confirm your age\n",
            "This video may be inappropriate for some users.\n"
          ]
        }
      ]
    },
    {
      "cell_type": "markdown",
      "source": [
        "falar de filtrar valores vazios\n",
        "\n",
        "os erros sãs os vazios"
      ],
      "metadata": {
        "id": "xoPrRjFva5Ei"
      }
    },
    {
      "cell_type": "code",
      "source": [
        "#tamanho da lista dos resultados\n",
        "print('Foi extraído {:,} registros.'.format(len(resultados)).replace(',','.'))\n",
        "\n",
        "#verificar se há algo vazio dentre os valores\n",
        "vazios = []\n",
        "for resultado in resultados:\n",
        "  if resultado is None:\n",
        "    vazios.append(resultado)\n",
        "print('Destes {} são registros vazios.'.format(len(vazios)))"
      ],
      "metadata": {
        "colab": {
          "base_uri": "https://localhost:8080/"
        },
        "id": "wNFucghOa7Ol",
        "outputId": "25f6de7a-d9cf-4176-f440-31367a3453dd"
      },
      "execution_count": null,
      "outputs": [
        {
          "output_type": "stream",
          "name": "stdout",
          "text": [
            "Foi extraído 1.368 registros.\n",
            "Destes 67 são registros vazios.\n"
          ]
        }
      ]
    },
    {
      "cell_type": "code",
      "source": [
        "#retirar registros vazios da lista\n",
        "resultados_sem_vazios = [i for i in resultados if i is not None]\n",
        "\n",
        "#avaliando a quantidade de registros final\n",
        "print('Quantidade de registros após a filtragem: {:,}'.format(len(resultados_sem_vazios)).replace(',','.'))"
      ],
      "metadata": {
        "colab": {
          "base_uri": "https://localhost:8080/"
        },
        "id": "AYNrsRIjnmjq",
        "outputId": "9a1b03ce-1e35-4ce8-bf11-3d42072ce2af"
      },
      "execution_count": null,
      "outputs": [
        {
          "output_type": "stream",
          "name": "stdout",
          "text": [
            "Quantidade de registros após a filtragem: 1.301\n"
          ]
        }
      ]
    },
    {
      "cell_type": "markdown",
      "metadata": {
        "id": "BnVh7r6jzuoc"
      },
      "source": [
        "Extraimos os vídeos **relacionados** a `cortes+podcast` e `palmeiras` e **guardamos** na variável `r`. Esta variável contém um arquivo no formato [JSON](https://pt.wikipedia.org/wiki/JSON), um tipo muito parecido com os **dicionários**.\n",
        "\n",
        "Se dermos uma olhada no parâmetro `entries` observamos que lá tem tudo que precisamos, as **principais** características dos vídeos extraídos.\n",
        "\n",
        "<center><img src=\"https://github.com/FerrazThales/recomendador_youtube/raw/main/base_de_dados/r_entries.png\"></center>\n",
        "\n",
        "Depois disso, criamos mais uma chave: a `key_word`. Ela é muito importante para identificar **qual** foi a palavra chave que utilizamos nas **buscas** dos vídeos. \n",
        "\n",
        "Por fim, guardamos tudo em uma **lista** e criamos um [DataFrame](https://pandas.pydata.org/docs/reference/api/pandas.DataFrame.html) do Pandas para melhor **visualizar** nossos resultados."
      ]
    },
    {
      "cell_type": "code",
      "metadata": {
        "id": "exCqI3vBdTx6",
        "colab": {
          "base_uri": "https://localhost:8080/",
          "height": 703
        },
        "outputId": "41ccd53d-f78b-4b78-fbed-feb8077f692b"
      },
      "source": [
        "#armanzenando os resultados em um DataFrame\n",
        "df = pd.DataFrame(resultados_sem_vazios)\n",
        "\n",
        "#exibindo as 5 primeiras entradas do DataFrame\n",
        "df.head()"
      ],
      "execution_count": null,
      "outputs": [
        {
          "output_type": "execute_result",
          "data": {
            "text/html": [
              "\n",
              "  <div id=\"df-a1350e17-0743-4f86-8b87-6fee31a0115a\">\n",
              "    <div class=\"colab-df-container\">\n",
              "      <div>\n",
              "<style scoped>\n",
              "    .dataframe tbody tr th:only-of-type {\n",
              "        vertical-align: middle;\n",
              "    }\n",
              "\n",
              "    .dataframe tbody tr th {\n",
              "        vertical-align: top;\n",
              "    }\n",
              "\n",
              "    .dataframe thead th {\n",
              "        text-align: right;\n",
              "    }\n",
              "</style>\n",
              "<table border=\"1\" class=\"dataframe\">\n",
              "  <thead>\n",
              "    <tr style=\"text-align: right;\">\n",
              "      <th></th>\n",
              "      <th>id</th>\n",
              "      <th>title</th>\n",
              "      <th>formats</th>\n",
              "      <th>thumbnails</th>\n",
              "      <th>description</th>\n",
              "      <th>upload_date</th>\n",
              "      <th>uploader</th>\n",
              "      <th>uploader_id</th>\n",
              "      <th>uploader_url</th>\n",
              "      <th>channel_id</th>\n",
              "      <th>channel_url</th>\n",
              "      <th>duration</th>\n",
              "      <th>view_count</th>\n",
              "      <th>average_rating</th>\n",
              "      <th>age_limit</th>\n",
              "      <th>webpage_url</th>\n",
              "      <th>categories</th>\n",
              "      <th>tags</th>\n",
              "      <th>is_live</th>\n",
              "      <th>automatic_captions</th>\n",
              "      <th>subtitles</th>\n",
              "      <th>like_count</th>\n",
              "      <th>channel</th>\n",
              "      <th>extractor</th>\n",
              "      <th>webpage_url_basename</th>\n",
              "      <th>extractor_key</th>\n",
              "      <th>n_entries</th>\n",
              "      <th>playlist</th>\n",
              "      <th>playlist_id</th>\n",
              "      <th>playlist_title</th>\n",
              "      <th>playlist_uploader</th>\n",
              "      <th>playlist_uploader_id</th>\n",
              "      <th>playlist_index</th>\n",
              "      <th>thumbnail</th>\n",
              "      <th>display_id</th>\n",
              "      <th>requested_subtitles</th>\n",
              "      <th>requested_formats</th>\n",
              "      <th>format</th>\n",
              "      <th>format_id</th>\n",
              "      <th>width</th>\n",
              "      <th>height</th>\n",
              "      <th>resolution</th>\n",
              "      <th>fps</th>\n",
              "      <th>vcodec</th>\n",
              "      <th>vbr</th>\n",
              "      <th>stretched_ratio</th>\n",
              "      <th>acodec</th>\n",
              "      <th>abr</th>\n",
              "      <th>ext</th>\n",
              "      <th>key_word</th>\n",
              "      <th>track</th>\n",
              "      <th>artist</th>\n",
              "      <th>album</th>\n",
              "      <th>creator</th>\n",
              "      <th>alt_title</th>\n",
              "      <th>location</th>\n",
              "      <th>license</th>\n",
              "      <th>url</th>\n",
              "      <th>manifest_url</th>\n",
              "      <th>tbr</th>\n",
              "      <th>protocol</th>\n",
              "      <th>preference</th>\n",
              "      <th>http_headers</th>\n",
              "      <th>chapters</th>\n",
              "    </tr>\n",
              "  </thead>\n",
              "  <tbody>\n",
              "    <tr>\n",
              "      <th>0</th>\n",
              "      <td>hHgT18YeMJo</td>\n",
              "      <td>JUNINHO DA 10 FALA DO POZE DO RODO -CORTES POD...</td>\n",
              "      <td>[{'asr': 48000, 'filesize': 873691, 'format_id...</td>\n",
              "      <td>[{'height': 94, 'url': 'https://i.ytimg.com/vi...</td>\n",
              "      <td></td>\n",
              "      <td>20211218</td>\n",
              "      <td>CORTES PODCAST RJ</td>\n",
              "      <td>UCMgGVUbs-3WtY-T21gbbIww</td>\n",
              "      <td>http://www.youtube.com/channel/UCMgGVUbs-3WtY-...</td>\n",
              "      <td>UCMgGVUbs-3WtY-T21gbbIww</td>\n",
              "      <td>https://www.youtube.com/channel/UCMgGVUbs-3WtY...</td>\n",
              "      <td>141.0</td>\n",
              "      <td>7</td>\n",
              "      <td>None</td>\n",
              "      <td>0</td>\n",
              "      <td>https://www.youtube.com/watch?v=hHgT18YeMJo</td>\n",
              "      <td>[People &amp; Blogs]</td>\n",
              "      <td>[]</td>\n",
              "      <td>None</td>\n",
              "      <td>{'af': [{'ext': 'srv1', 'url': 'https://www.yo...</td>\n",
              "      <td>{}</td>\n",
              "      <td>0.0</td>\n",
              "      <td>CORTES PODCAST RJ</td>\n",
              "      <td>youtube</td>\n",
              "      <td>hHgT18YeMJo</td>\n",
              "      <td>Youtube</td>\n",
              "      <td>500</td>\n",
              "      <td>cortes+podcast</td>\n",
              "      <td>cortes+podcast</td>\n",
              "      <td>None</td>\n",
              "      <td>None</td>\n",
              "      <td>None</td>\n",
              "      <td>1</td>\n",
              "      <td>https://i.ytimg.com/vi/hHgT18YeMJo/hqdefault.j...</td>\n",
              "      <td>hHgT18YeMJo</td>\n",
              "      <td>None</td>\n",
              "      <td>({'asr': None, 'filesize': 39404327, 'format_i...</td>\n",
              "      <td>315 - 2328x2160 (2160p60)+140 - audio only (tiny)</td>\n",
              "      <td>315+140</td>\n",
              "      <td>2328</td>\n",
              "      <td>2160</td>\n",
              "      <td>NaN</td>\n",
              "      <td>60.0</td>\n",
              "      <td>vp9</td>\n",
              "      <td>2231.496</td>\n",
              "      <td>NaN</td>\n",
              "      <td>mp4a.40.2</td>\n",
              "      <td>129.514</td>\n",
              "      <td>webm</td>\n",
              "      <td>cortes+podcast</td>\n",
              "      <td>NaN</td>\n",
              "      <td>NaN</td>\n",
              "      <td>NaN</td>\n",
              "      <td>NaN</td>\n",
              "      <td>NaN</td>\n",
              "      <td>NaN</td>\n",
              "      <td>NaN</td>\n",
              "      <td>NaN</td>\n",
              "      <td>NaN</td>\n",
              "      <td>NaN</td>\n",
              "      <td>NaN</td>\n",
              "      <td>NaN</td>\n",
              "      <td>NaN</td>\n",
              "      <td>NaN</td>\n",
              "    </tr>\n",
              "    <tr>\n",
              "      <th>1</th>\n",
              "      <td>c6wfeM5SAkU</td>\n",
              "      <td>MC Juninho da 10 no trap - Cortes Podcast Rj</td>\n",
              "      <td>[{'asr': 48000, 'filesize': 97091, 'format_id'...</td>\n",
              "      <td>[{'height': 94, 'url': 'https://i.ytimg.com/vi...</td>\n",
              "      <td></td>\n",
              "      <td>20211218</td>\n",
              "      <td>CORTES PODCAST RJ</td>\n",
              "      <td>UCMgGVUbs-3WtY-T21gbbIww</td>\n",
              "      <td>http://www.youtube.com/channel/UCMgGVUbs-3WtY-...</td>\n",
              "      <td>UCMgGVUbs-3WtY-T21gbbIww</td>\n",
              "      <td>https://www.youtube.com/channel/UCMgGVUbs-3WtY...</td>\n",
              "      <td>15.0</td>\n",
              "      <td>0</td>\n",
              "      <td>None</td>\n",
              "      <td>0</td>\n",
              "      <td>https://www.youtube.com/watch?v=c6wfeM5SAkU</td>\n",
              "      <td>[People &amp; Blogs]</td>\n",
              "      <td>[]</td>\n",
              "      <td>None</td>\n",
              "      <td>{'af': [{'ext': 'srv1', 'url': 'https://www.yo...</td>\n",
              "      <td>{}</td>\n",
              "      <td>0.0</td>\n",
              "      <td>CORTES PODCAST RJ</td>\n",
              "      <td>youtube</td>\n",
              "      <td>c6wfeM5SAkU</td>\n",
              "      <td>Youtube</td>\n",
              "      <td>500</td>\n",
              "      <td>cortes+podcast</td>\n",
              "      <td>cortes+podcast</td>\n",
              "      <td>None</td>\n",
              "      <td>None</td>\n",
              "      <td>None</td>\n",
              "      <td>2</td>\n",
              "      <td>https://i.ytimg.com/vi_webp/c6wfeM5SAkU/maxres...</td>\n",
              "      <td>c6wfeM5SAkU</td>\n",
              "      <td>None</td>\n",
              "      <td>({'asr': None, 'filesize': 848722, 'format_id'...</td>\n",
              "      <td>271 - 720x1280 (720p)+140 - audio only (tiny)</td>\n",
              "      <td>271+140</td>\n",
              "      <td>720</td>\n",
              "      <td>1280</td>\n",
              "      <td>NaN</td>\n",
              "      <td>30.0</td>\n",
              "      <td>vp9</td>\n",
              "      <td>452.681</td>\n",
              "      <td>NaN</td>\n",
              "      <td>mp4a.40.2</td>\n",
              "      <td>130.147</td>\n",
              "      <td>webm</td>\n",
              "      <td>cortes+podcast</td>\n",
              "      <td>NaN</td>\n",
              "      <td>NaN</td>\n",
              "      <td>NaN</td>\n",
              "      <td>NaN</td>\n",
              "      <td>NaN</td>\n",
              "      <td>NaN</td>\n",
              "      <td>NaN</td>\n",
              "      <td>NaN</td>\n",
              "      <td>NaN</td>\n",
              "      <td>NaN</td>\n",
              "      <td>NaN</td>\n",
              "      <td>NaN</td>\n",
              "      <td>NaN</td>\n",
              "      <td>NaN</td>\n",
              "    </tr>\n",
              "    <tr>\n",
              "      <th>2</th>\n",
              "      <td>6Jju_-yjWls</td>\n",
              "      <td>ARUAN ESPOEM YOUTUBERS | Raio Cortes Podcast</td>\n",
              "      <td>[{'format_id': '139', 'manifest_url': 'https:/...</td>\n",
              "      <td>[{'height': 94, 'url': 'https://i.ytimg.com/vi...</td>\n",
              "      <td>Tiktok:@raiocortespodcast\\n\\nCréditos: @Flowpo...</td>\n",
              "      <td>20211217</td>\n",
              "      <td>Raio Cortes Podcast</td>\n",
              "      <td>UCSAJHmAVzajY0LbnF_rrDDg</td>\n",
              "      <td>http://www.youtube.com/channel/UCSAJHmAVzajY0L...</td>\n",
              "      <td>UCSAJHmAVzajY0LbnF_rrDDg</td>\n",
              "      <td>https://www.youtube.com/channel/UCSAJHmAVzajY0...</td>\n",
              "      <td>275.0</td>\n",
              "      <td>2</td>\n",
              "      <td>None</td>\n",
              "      <td>0</td>\n",
              "      <td>https://www.youtube.com/watch?v=6Jju_-yjWls</td>\n",
              "      <td>[People &amp; Blogs]</td>\n",
              "      <td>[]</td>\n",
              "      <td>None</td>\n",
              "      <td>{'af': [{'ext': 'srv1', 'url': 'https://www.yo...</td>\n",
              "      <td>{}</td>\n",
              "      <td>1.0</td>\n",
              "      <td>Raio Cortes Podcast</td>\n",
              "      <td>youtube</td>\n",
              "      <td>6Jju_-yjWls</td>\n",
              "      <td>Youtube</td>\n",
              "      <td>500</td>\n",
              "      <td>cortes+podcast</td>\n",
              "      <td>cortes+podcast</td>\n",
              "      <td>None</td>\n",
              "      <td>None</td>\n",
              "      <td>None</td>\n",
              "      <td>3</td>\n",
              "      <td>https://i.ytimg.com/vi/6Jju_-yjWls/hqdefault.j...</td>\n",
              "      <td>6Jju_-yjWls</td>\n",
              "      <td>None</td>\n",
              "      <td>({'format_id': '248', 'manifest_url': 'https:/...</td>\n",
              "      <td>248 - 1920x1080 (DASH video)+140 - audio only ...</td>\n",
              "      <td>248+140</td>\n",
              "      <td>1920</td>\n",
              "      <td>1080</td>\n",
              "      <td>NaN</td>\n",
              "      <td>30.0</td>\n",
              "      <td>vp9</td>\n",
              "      <td>NaN</td>\n",
              "      <td>NaN</td>\n",
              "      <td>mp4a.40.2</td>\n",
              "      <td>129.492</td>\n",
              "      <td>webm</td>\n",
              "      <td>cortes+podcast</td>\n",
              "      <td>NaN</td>\n",
              "      <td>NaN</td>\n",
              "      <td>NaN</td>\n",
              "      <td>NaN</td>\n",
              "      <td>NaN</td>\n",
              "      <td>NaN</td>\n",
              "      <td>NaN</td>\n",
              "      <td>NaN</td>\n",
              "      <td>NaN</td>\n",
              "      <td>NaN</td>\n",
              "      <td>NaN</td>\n",
              "      <td>NaN</td>\n",
              "      <td>NaN</td>\n",
              "      <td>NaN</td>\n",
              "    </tr>\n",
              "    <tr>\n",
              "      <th>3</th>\n",
              "      <td>4m2EAlU1W4o</td>\n",
              "      <td>COMO FOI MORAR COM A BREAKMEN NOS EUA (ARUAN) ...</td>\n",
              "      <td>[{'asr': 48000, 'filesize': 2566643, 'format_i...</td>\n",
              "      <td>[{'height': 94, 'url': 'https://i.ytimg.com/vi...</td>\n",
              "      <td>Curso VIVER DE YOUTUBE: https://bit.ly/2NvrVtW...</td>\n",
              "      <td>20211217</td>\n",
              "      <td>Cortes Podcast</td>\n",
              "      <td>UCGBPo-CBLiMKxivaiF-MBiA</td>\n",
              "      <td>http://www.youtube.com/channel/UCGBPo-CBLiMKxi...</td>\n",
              "      <td>UCGBPo-CBLiMKxivaiF-MBiA</td>\n",
              "      <td>https://www.youtube.com/channel/UCGBPo-CBLiMKx...</td>\n",
              "      <td>414.0</td>\n",
              "      <td>9711</td>\n",
              "      <td>None</td>\n",
              "      <td>0</td>\n",
              "      <td>https://www.youtube.com/watch?v=4m2EAlU1W4o</td>\n",
              "      <td>[Entertainment]</td>\n",
              "      <td>[flow podcast, flow, podcast, cortes podcast, ...</td>\n",
              "      <td>None</td>\n",
              "      <td>{'af': [{'ext': 'srv1', 'url': 'https://www.yo...</td>\n",
              "      <td>{}</td>\n",
              "      <td>656.0</td>\n",
              "      <td>Cortes Podcast</td>\n",
              "      <td>youtube</td>\n",
              "      <td>4m2EAlU1W4o</td>\n",
              "      <td>Youtube</td>\n",
              "      <td>500</td>\n",
              "      <td>cortes+podcast</td>\n",
              "      <td>cortes+podcast</td>\n",
              "      <td>None</td>\n",
              "      <td>None</td>\n",
              "      <td>None</td>\n",
              "      <td>4</td>\n",
              "      <td>https://i.ytimg.com/vi_webp/4m2EAlU1W4o/maxres...</td>\n",
              "      <td>4m2EAlU1W4o</td>\n",
              "      <td>None</td>\n",
              "      <td>({'asr': None, 'filesize': 50941819, 'format_i...</td>\n",
              "      <td>248 - 1920x1080 (1080p)+140 - audio only (tiny)</td>\n",
              "      <td>248+140</td>\n",
              "      <td>1920</td>\n",
              "      <td>1080</td>\n",
              "      <td>NaN</td>\n",
              "      <td>30.0</td>\n",
              "      <td>vp9</td>\n",
              "      <td>983.591</td>\n",
              "      <td>NaN</td>\n",
              "      <td>mp4a.40.2</td>\n",
              "      <td>129.486</td>\n",
              "      <td>webm</td>\n",
              "      <td>cortes+podcast</td>\n",
              "      <td>NaN</td>\n",
              "      <td>NaN</td>\n",
              "      <td>NaN</td>\n",
              "      <td>NaN</td>\n",
              "      <td>NaN</td>\n",
              "      <td>NaN</td>\n",
              "      <td>NaN</td>\n",
              "      <td>NaN</td>\n",
              "      <td>NaN</td>\n",
              "      <td>NaN</td>\n",
              "      <td>NaN</td>\n",
              "      <td>NaN</td>\n",
              "      <td>NaN</td>\n",
              "      <td>NaN</td>\n",
              "    </tr>\n",
              "    <tr>\n",
              "      <th>4</th>\n",
              "      <td>dktR8fv98CI</td>\n",
              "      <td>O SUCESSO DO FIFA STR1P (ARUAN) | Cortes Podcast</td>\n",
              "      <td>[{'asr': 48000, 'filesize': 2230203, 'format_i...</td>\n",
              "      <td>[{'height': 94, 'url': 'https://i.ytimg.com/vi...</td>\n",
              "      <td>Curso VIVER DE YOUTUBE: https://bit.ly/2NvrVtW...</td>\n",
              "      <td>20211217</td>\n",
              "      <td>Cortes Podcast</td>\n",
              "      <td>UCGBPo-CBLiMKxivaiF-MBiA</td>\n",
              "      <td>http://www.youtube.com/channel/UCGBPo-CBLiMKxi...</td>\n",
              "      <td>UCGBPo-CBLiMKxivaiF-MBiA</td>\n",
              "      <td>https://www.youtube.com/channel/UCGBPo-CBLiMKx...</td>\n",
              "      <td>361.0</td>\n",
              "      <td>3096</td>\n",
              "      <td>None</td>\n",
              "      <td>0</td>\n",
              "      <td>https://www.youtube.com/watch?v=dktR8fv98CI</td>\n",
              "      <td>[Entertainment]</td>\n",
              "      <td>[flow podcast, flow, podcast, cortes podcast, ...</td>\n",
              "      <td>None</td>\n",
              "      <td>{'af': [{'ext': 'srv1', 'url': 'https://www.yo...</td>\n",
              "      <td>{}</td>\n",
              "      <td>179.0</td>\n",
              "      <td>Cortes Podcast</td>\n",
              "      <td>youtube</td>\n",
              "      <td>dktR8fv98CI</td>\n",
              "      <td>Youtube</td>\n",
              "      <td>500</td>\n",
              "      <td>cortes+podcast</td>\n",
              "      <td>cortes+podcast</td>\n",
              "      <td>None</td>\n",
              "      <td>None</td>\n",
              "      <td>None</td>\n",
              "      <td>5</td>\n",
              "      <td>https://i.ytimg.com/vi_webp/dktR8fv98CI/maxres...</td>\n",
              "      <td>dktR8fv98CI</td>\n",
              "      <td>None</td>\n",
              "      <td>({'asr': None, 'filesize': 49376935, 'format_i...</td>\n",
              "      <td>137 - 1920x1080 (1080p)+140 - audio only (tiny)</td>\n",
              "      <td>137+140</td>\n",
              "      <td>1920</td>\n",
              "      <td>1080</td>\n",
              "      <td>NaN</td>\n",
              "      <td>30.0</td>\n",
              "      <td>avc1.640028</td>\n",
              "      <td>1095.542</td>\n",
              "      <td>NaN</td>\n",
              "      <td>mp4a.40.2</td>\n",
              "      <td>129.488</td>\n",
              "      <td>mp4</td>\n",
              "      <td>cortes+podcast</td>\n",
              "      <td>NaN</td>\n",
              "      <td>NaN</td>\n",
              "      <td>NaN</td>\n",
              "      <td>NaN</td>\n",
              "      <td>NaN</td>\n",
              "      <td>NaN</td>\n",
              "      <td>NaN</td>\n",
              "      <td>NaN</td>\n",
              "      <td>NaN</td>\n",
              "      <td>NaN</td>\n",
              "      <td>NaN</td>\n",
              "      <td>NaN</td>\n",
              "      <td>NaN</td>\n",
              "      <td>NaN</td>\n",
              "    </tr>\n",
              "  </tbody>\n",
              "</table>\n",
              "</div>\n",
              "      <button class=\"colab-df-convert\" onclick=\"convertToInteractive('df-a1350e17-0743-4f86-8b87-6fee31a0115a')\"\n",
              "              title=\"Convert this dataframe to an interactive table.\"\n",
              "              style=\"display:none;\">\n",
              "        \n",
              "  <svg xmlns=\"http://www.w3.org/2000/svg\" height=\"24px\"viewBox=\"0 0 24 24\"\n",
              "       width=\"24px\">\n",
              "    <path d=\"M0 0h24v24H0V0z\" fill=\"none\"/>\n",
              "    <path d=\"M18.56 5.44l.94 2.06.94-2.06 2.06-.94-2.06-.94-.94-2.06-.94 2.06-2.06.94zm-11 1L8.5 8.5l.94-2.06 2.06-.94-2.06-.94L8.5 2.5l-.94 2.06-2.06.94zm10 10l.94 2.06.94-2.06 2.06-.94-2.06-.94-.94-2.06-.94 2.06-2.06.94z\"/><path d=\"M17.41 7.96l-1.37-1.37c-.4-.4-.92-.59-1.43-.59-.52 0-1.04.2-1.43.59L10.3 9.45l-7.72 7.72c-.78.78-.78 2.05 0 2.83L4 21.41c.39.39.9.59 1.41.59.51 0 1.02-.2 1.41-.59l7.78-7.78 2.81-2.81c.8-.78.8-2.07 0-2.86zM5.41 20L4 18.59l7.72-7.72 1.47 1.35L5.41 20z\"/>\n",
              "  </svg>\n",
              "      </button>\n",
              "      \n",
              "  <style>\n",
              "    .colab-df-container {\n",
              "      display:flex;\n",
              "      flex-wrap:wrap;\n",
              "      gap: 12px;\n",
              "    }\n",
              "\n",
              "    .colab-df-convert {\n",
              "      background-color: #E8F0FE;\n",
              "      border: none;\n",
              "      border-radius: 50%;\n",
              "      cursor: pointer;\n",
              "      display: none;\n",
              "      fill: #1967D2;\n",
              "      height: 32px;\n",
              "      padding: 0 0 0 0;\n",
              "      width: 32px;\n",
              "    }\n",
              "\n",
              "    .colab-df-convert:hover {\n",
              "      background-color: #E2EBFA;\n",
              "      box-shadow: 0px 1px 2px rgba(60, 64, 67, 0.3), 0px 1px 3px 1px rgba(60, 64, 67, 0.15);\n",
              "      fill: #174EA6;\n",
              "    }\n",
              "\n",
              "    [theme=dark] .colab-df-convert {\n",
              "      background-color: #3B4455;\n",
              "      fill: #D2E3FC;\n",
              "    }\n",
              "\n",
              "    [theme=dark] .colab-df-convert:hover {\n",
              "      background-color: #434B5C;\n",
              "      box-shadow: 0px 1px 3px 1px rgba(0, 0, 0, 0.15);\n",
              "      filter: drop-shadow(0px 1px 2px rgba(0, 0, 0, 0.3));\n",
              "      fill: #FFFFFF;\n",
              "    }\n",
              "  </style>\n",
              "\n",
              "      <script>\n",
              "        const buttonEl =\n",
              "          document.querySelector('#df-a1350e17-0743-4f86-8b87-6fee31a0115a button.colab-df-convert');\n",
              "        buttonEl.style.display =\n",
              "          google.colab.kernel.accessAllowed ? 'block' : 'none';\n",
              "\n",
              "        async function convertToInteractive(key) {\n",
              "          const element = document.querySelector('#df-a1350e17-0743-4f86-8b87-6fee31a0115a');\n",
              "          const dataTable =\n",
              "            await google.colab.kernel.invokeFunction('convertToInteractive',\n",
              "                                                     [key], {});\n",
              "          if (!dataTable) return;\n",
              "\n",
              "          const docLinkHtml = 'Like what you see? Visit the ' +\n",
              "            '<a target=\"_blank\" href=https://colab.research.google.com/notebooks/data_table.ipynb>data table notebook</a>'\n",
              "            + ' to learn more about interactive tables.';\n",
              "          element.innerHTML = '';\n",
              "          dataTable['output_type'] = 'display_data';\n",
              "          await google.colab.output.renderOutput(dataTable, element);\n",
              "          const docLink = document.createElement('div');\n",
              "          docLink.innerHTML = docLinkHtml;\n",
              "          element.appendChild(docLink);\n",
              "        }\n",
              "      </script>\n",
              "    </div>\n",
              "  </div>\n",
              "  "
            ],
            "text/plain": [
              "            id  ... chapters\n",
              "0  hHgT18YeMJo  ...      NaN\n",
              "1  c6wfeM5SAkU  ...      NaN\n",
              "2  6Jju_-yjWls  ...      NaN\n",
              "3  4m2EAlU1W4o  ...      NaN\n",
              "4  dktR8fv98CI  ...      NaN\n",
              "\n",
              "[5 rows x 64 columns]"
            ]
          },
          "metadata": {},
          "execution_count": 36
        }
      ]
    },
    {
      "cell_type": "markdown",
      "source": [
        "tipo de dados,quantidade de registros e variáveis "
      ],
      "metadata": {
        "id": "x_uUjN9BJY-l"
      }
    },
    {
      "cell_type": "code",
      "metadata": {
        "id": "rR6ZNMlcsT_0",
        "colab": {
          "base_uri": "https://localhost:8080/"
        },
        "outputId": "7864fbc5-ddc5-4456-dff9-fa8972b39a2d"
      },
      "source": [
        "#avaliando o tipo dos dados\n",
        "df.info()"
      ],
      "execution_count": null,
      "outputs": [
        {
          "output_type": "stream",
          "name": "stdout",
          "text": [
            "<class 'pandas.core.frame.DataFrame'>\n",
            "RangeIndex: 1301 entries, 0 to 1300\n",
            "Data columns (total 64 columns):\n",
            " #   Column                Non-Null Count  Dtype  \n",
            "---  ------                --------------  -----  \n",
            " 0   id                    1301 non-null   object \n",
            " 1   title                 1301 non-null   object \n",
            " 2   formats               1301 non-null   object \n",
            " 3   thumbnails            1301 non-null   object \n",
            " 4   description           1301 non-null   object \n",
            " 5   upload_date           1301 non-null   object \n",
            " 6   uploader              1301 non-null   object \n",
            " 7   uploader_id           1301 non-null   object \n",
            " 8   uploader_url          1301 non-null   object \n",
            " 9   channel_id            1301 non-null   object \n",
            " 10  channel_url           1301 non-null   object \n",
            " 11  duration              1300 non-null   float64\n",
            " 12  view_count            1301 non-null   int64  \n",
            " 13  average_rating        0 non-null      object \n",
            " 14  age_limit             1301 non-null   int64  \n",
            " 15  webpage_url           1301 non-null   object \n",
            " 16  categories            1301 non-null   object \n",
            " 17  tags                  1301 non-null   object \n",
            " 18  is_live               1 non-null      object \n",
            " 19  automatic_captions    1104 non-null   object \n",
            " 20  subtitles             1111 non-null   object \n",
            " 21  like_count            1289 non-null   float64\n",
            " 22  channel               1301 non-null   object \n",
            " 23  extractor             1301 non-null   object \n",
            " 24  webpage_url_basename  1301 non-null   object \n",
            " 25  extractor_key         1301 non-null   object \n",
            " 26  n_entries             1301 non-null   int64  \n",
            " 27  playlist              1301 non-null   object \n",
            " 28  playlist_id           1301 non-null   object \n",
            " 29  playlist_title        0 non-null      object \n",
            " 30  playlist_uploader     0 non-null      object \n",
            " 31  playlist_uploader_id  0 non-null      object \n",
            " 32  playlist_index        1301 non-null   int64  \n",
            " 33  thumbnail             1301 non-null   object \n",
            " 34  display_id            1301 non-null   object \n",
            " 35  requested_subtitles   0 non-null      object \n",
            " 36  requested_formats     1300 non-null   object \n",
            " 37  format                1301 non-null   object \n",
            " 38  format_id             1301 non-null   object \n",
            " 39  width                 1301 non-null   int64  \n",
            " 40  height                1301 non-null   int64  \n",
            " 41  resolution            0 non-null      float64\n",
            " 42  fps                   1301 non-null   float64\n",
            " 43  vcodec                1301 non-null   object \n",
            " 44  vbr                   1273 non-null   float64\n",
            " 45  stretched_ratio       0 non-null      float64\n",
            " 46  acodec                1301 non-null   object \n",
            " 47  abr                   1299 non-null   float64\n",
            " 48  ext                   1301 non-null   object \n",
            " 49  key_word              1301 non-null   object \n",
            " 50  track                 60 non-null     object \n",
            " 51  artist                60 non-null     object \n",
            " 52  album                 60 non-null     object \n",
            " 53  creator               60 non-null     object \n",
            " 54  alt_title             60 non-null     object \n",
            " 55  location              4 non-null      object \n",
            " 56  license               6 non-null      object \n",
            " 57  url                   1 non-null      object \n",
            " 58  manifest_url          1 non-null      object \n",
            " 59  tbr                   1 non-null      float64\n",
            " 60  protocol              1 non-null      object \n",
            " 61  preference            0 non-null      float64\n",
            " 62  http_headers          1 non-null      object \n",
            " 63  chapters              71 non-null     object \n",
            "dtypes: float64(9), int64(6), object(49)\n",
            "memory usage: 650.6+ KB\n"
          ]
        }
      ]
    },
    {
      "cell_type": "markdown",
      "source": [
        "verificar dados duplicados"
      ],
      "metadata": {
        "id": "9Q6PW1RoHhvP"
      }
    },
    {
      "cell_type": "code",
      "source": [
        "#verificar linhas que foram duplicadas\n",
        "duplicados = df[df.duplicated(subset='webpage_url',keep=False)]\n",
        "\n",
        "#verificando os titulos que estão duplicados\n",
        "duplicados.title.value_counts()"
      ],
      "metadata": {
        "id": "FkZak0sjHkyf",
        "colab": {
          "base_uri": "https://localhost:8080/"
        },
        "outputId": "c6cd4e82-23f0-4078-8455-2763b227f6c6"
      },
      "execution_count": null,
      "outputs": [
        {
          "output_type": "execute_result",
          "data": {
            "text/plain": [
              "DIFERENÇA DAS MULHERES DO EUA X BRASIL | Cortes Podcast                                         3\n",
              "A FAROFA DA GKAY | Cortes Podcast                                                               3\n",
              "COMO É FICAR CARA A CARA COM PSICOPATAS | Cortes Podcast                                        3\n",
              "O PODCAST QUE MAIS ODEIA O FLOW | Cortes do Flow                                                3\n",
              "ENTENDA A LAVA JATO DE UMA VEZ POR TODAS (JUIZ FEDERAL) | Cortes Podcast                        2\n",
              "COMO FOI MORAR COM A BREAKMEN NOS EUA (ARUAN)  | Cortes Podcast                                 2\n",
              "IGOR COBRA RONALDO FENÔMENO AO VIVO | Cortes do Flow                                            2\n",
              "CONVIDADO CONTA HISTORIA EMOCIONANTE SOBRE SEU FILHO | Cortes Podcast                           2\n",
              "COMO É SER NINFOMANÍACA | Cortes Podcast                                                        2\n",
              "A POLÊMICA DA PLACA DE 100K (ARUAN) | Cortes Podcast                                            2\n",
              "MONARK E NIKOLAS DEBATEM AB*RTO | Cortes do Flow                                                2\n",
              "CRISS DEBATE LULA X BOLSONARO COM CONVIDADA | Cortes do Venus                                   2\n",
              "PASSEI UM PESADELO NO ORIENTE MÉDIO | Cortes Podcast                                            2\n",
              "MURILO COUTO SE ABRE SOBRE MULHER DE LÉO LINS | Cortes Podcast Climb                            2\n",
              "COMO FOI DESCOBRIR A GRÁVIDA DE TAUBATÉ (CHRIS FLORES) | Cortes Podcast                         2\n",
              "A VERDADE SOBRE CHICO ANYSIO | Cortes Podcast                                                   2\n",
              "REPORTAGEM POLÊMICA SOBRE A IGREJA CATÓLICA - ROBERTO CABRINI | Cortes do Inteligência Ltda.    2\n",
              "MEU PAI ERA UM DOS MAIORES MAFIOSOS DO MUNDO (LEANDRO HASSUM) | Cortes Podcast                  2\n",
              "FERNANDA SOBRE HOMENS “PEQUENOS” | Cortes Podcast                                               2\n",
              "A INEVITÁVEL DOMINAÇÃO DAS MÁQUINAS | Cortes Podcast                                            2\n",
              "EU PREFIRO P1NTO | CORTES PODCAST                                                               2\n",
              "TIRINGA DÁ PUXÃO DE ORELHA NO FILHO AO VIVO | Cortes do Flow                                    2\n",
              "DESMASCAREI A GRÁVIDA DE TAUBATÉ | Cortes do Venus                                              2\n",
              "COMO O PETRÓLEO SE FORMA? (PIRULLA) | Cortes Podcast                                            2\n",
              "CREMOSINHO PEGOU A ELISA SANCHES | Cortes do Flow                                               2\n",
              "EU GOSTO ASSIM... | CORTES PODCAST                                                              2\n",
              "TIRINGA ODEIA PAULINHO GOGÓ | Cortes do Flow                                                    2\n",
              "FOI LÁ NO FUNDO | CORTES PODCAST                                                                2\n",
              "BALESTRIN FAZ UM DESABAFO SOBRE RAFAEL BRANDÃO AO VIVO – IRONBERG PODCAST CORTES                2\n",
              "COMO É SER UMA DELEGADA | Cortes Podcast                                                        2\n",
              "A VERDADE SOBRE O ROMÁRIO (RICARDO ROCHA) | Cortes Podcast                                      2\n",
              "DI FERRERO E A TRETA COM AFONSO PADILHA | Cortes Podcast                                        2\n",
              "COMO SABER SE ALGUÉM É MAU? (DANIEL MASTRAL) | Cortes Podcast                                   2\n",
              "VOCÊ SE SENTE DESANIMADO? PSICÓLOGO EXPLICA O PORQUÊ (ESLEN DELANOGARE) | Cortes Podcast        2\n",
              "GABIGOL NO PODPAH - MELHORES MOMENTOS                                                           2\n",
              "TOGURO EXPÕE COMO ERA A VIDA DE MC KEVIN – IRONBERG PODCAST CORTES                              2\n",
              "CONVIDADA E CRISS DISCUTEM SOBRE AS ELEIÇÕES | Cortes Podcast                                   2\n",
              "MIRELLA FALA DO TÉRMINO COM DINHO ALVES - Cortes Podcast                                        2\n",
              "OS PERIGOS DO METAVERSO *PRESTE ATENÇÃO* | Cortes Podcast                                       2\n",
              "COMO EU CONHECI O TIRINGA | Cortes Podcast                                                      2\n",
              "O RIO DE JANEIRO ACABOU (FÁBIO PORCHAT) | Cortes Podcast                                        2\n",
              "CASOS DE FAMÍLIA COM TIRINGA E CHARLLES | Cortes do Flow                                        2\n",
              "ZEZE DI CAMARGO SOBRE LUAN SANTANA | Cortes Podcast                                             2\n",
              "IMPOSSÍVEL NÃO RIR COM TIRINGA KKKKKKKKKKKK | Cortes Podcast                                    2\n",
              "LARA SILVA CONTA QUE VIU SEU PAI M0RR3R                                                         2\n",
              "GABIGOL MANDOU A REAL SOBRE O CORINTHIANS | Cortes Podcast Climb                                2\n",
              "RONALDO BRILHA MUITO NO CORINTHIANS | Cortes do Flow                                            2\n",
              "O ÚLTIMO SHOW COM O CHORÃO | Cortes Podcast                                                     2\n",
              "COMO É SER UM CASAL DO CASAMENTO ÀS CEGAS | Cortes Podcast                                      2\n",
              "LEANDRO HASSUM NO JAPÃO: IMPOSSÍVEL NÃO RIR | Cortes Podcast                                    2\n",
              "A EXTINÇÃO DOS NOSSOS IRMÃOS (NEANDERTAIS) | Cortes Podcast                                     2\n",
              "Name: title, dtype: int64"
            ]
          },
          "metadata": {},
          "execution_count": 68
        }
      ]
    },
    {
      "cell_type": "code",
      "source": [
        "#dropando os dados duplicados\n",
        "df.drop_duplicates(subset='webpage_url',inplace=True)"
      ],
      "metadata": {
        "id": "_WT_w2lzv95X"
      },
      "execution_count": null,
      "outputs": []
    },
    {
      "cell_type": "code",
      "source": [
        "#visualizando quantidade final de registros\n",
        "df.shape"
      ],
      "metadata": {
        "colab": {
          "base_uri": "https://localhost:8080/"
        },
        "id": "DyZSgd7_w6ZC",
        "outputId": "3482a828-e982-409f-c0ca-747dd6c42187"
      },
      "execution_count": null,
      "outputs": [
        {
          "output_type": "execute_result",
          "data": {
            "text/plain": [
              "(1246, 64)"
            ]
          },
          "metadata": {},
          "execution_count": 87
        }
      ]
    },
    {
      "cell_type": "markdown",
      "source": [
        "## Exportando o banco de dados para CSV para rotulação manual\n",
        "\n",
        "texto texto google sheets"
      ],
      "metadata": {
        "id": "rS8yFCxpIAyj"
      }
    },
    {
      "cell_type": "code",
      "source": [
        "#exportando para um arquivo excel\n",
        "df.to_excel('videos_de_podcast_youtube.xlsx')"
      ],
      "metadata": {
        "id": "bZGX-06ZxwFM"
      },
      "execution_count": null,
      "outputs": []
    },
    {
      "cell_type": "markdown",
      "source": [
        "falar que rotulou,explicar active learning"
      ],
      "metadata": {
        "id": "WkMynZH5cGGM"
      }
    },
    {
      "cell_type": "code",
      "source": [
        "#importando dados rotulados\n",
        "df_com_rotulo = pd.read_excel('/content/videos_de_podcast_youtube_com_rotulos.xlsx',index_col='id')"
      ],
      "metadata": {
        "id": "2vcVKZieILKZ"
      },
      "execution_count": 10,
      "outputs": []
    },
    {
      "cell_type": "markdown",
      "source": [
        "## Análise Exploratória dos dados\n",
        "\n",
        "texto texto texto"
      ],
      "metadata": {
        "id": "RaiW3PZHo_7y"
      }
    },
    {
      "cell_type": "code",
      "source": [
        "df_com_rotulo.columns"
      ],
      "metadata": {
        "colab": {
          "base_uri": "https://localhost:8080/"
        },
        "id": "PmAeAKNdpEAB",
        "outputId": "5859d0a2-7bbe-435b-f2cc-1a27b8bd5e77"
      },
      "execution_count": 11,
      "outputs": [
        {
          "output_type": "execute_result",
          "data": {
            "text/plain": [
              "Index(['Unnamed: 0', 'title', 'formats', 'thumbnails', 'description',\n",
              "       'upload_date', 'uploader', 'uploader_id', 'uploader_url', 'channel_id',\n",
              "       'channel_url', 'duration', 'view_count', 'average_rating', 'age_limit',\n",
              "       'webpage_url', 'rotulo_thales', 'categories', 'tags', 'is_live',\n",
              "       'automatic_captions', 'subtitles', 'like_count', 'channel', 'extractor',\n",
              "       'webpage_url_basename', 'extractor_key', 'n_entries', 'playlist',\n",
              "       'playlist_id', 'playlist_title', 'playlist_uploader',\n",
              "       'playlist_uploader_id', 'playlist_index', 'thumbnail', 'display_id',\n",
              "       'requested_subtitles', 'requested_formats', 'format', 'format_id',\n",
              "       'width', 'height', 'resolution', 'fps', 'vcodec', 'vbr',\n",
              "       'stretched_ratio', 'acodec', 'abr', 'ext', 'key_word', 'track',\n",
              "       'artist', 'album', 'creator', 'alt_title', 'location', 'license', 'url',\n",
              "       'manifest_url', 'tbr', 'protocol', 'preference', 'http_headers',\n",
              "       'chapters'],\n",
              "      dtype='object')"
            ]
          },
          "metadata": {},
          "execution_count": 11
        }
      ]
    },
    {
      "cell_type": "markdown",
      "source": [
        "dados ausentes"
      ],
      "metadata": {
        "id": "t-Tu1zrKJeKP"
      }
    },
    {
      "cell_type": "code",
      "metadata": {
        "id": "9ZdEQlzExWHe",
        "colab": {
          "base_uri": "https://localhost:8080/",
          "height": 658
        },
        "outputId": "d5e1f220-2c7e-49df-d3fd-7b172c4818ca"
      },
      "source": [
        "(df_com_rotulo.isnull().sum()/df_com_rotulo.shape[0]).sort_values(ascending=False).to_frame('Dados Ausentes')"
      ],
      "execution_count": 13,
      "outputs": [
        {
          "output_type": "execute_result",
          "data": {
            "text/html": [
              "\n",
              "  <div id=\"df-9c7d05c9-34c3-4952-83e5-f4c616de8949\">\n",
              "    <div class=\"colab-df-container\">\n",
              "      <div>\n",
              "<style scoped>\n",
              "    .dataframe tbody tr th:only-of-type {\n",
              "        vertical-align: middle;\n",
              "    }\n",
              "\n",
              "    .dataframe tbody tr th {\n",
              "        vertical-align: top;\n",
              "    }\n",
              "\n",
              "    .dataframe thead th {\n",
              "        text-align: right;\n",
              "    }\n",
              "</style>\n",
              "<table border=\"1\" class=\"dataframe\">\n",
              "  <thead>\n",
              "    <tr style=\"text-align: right;\">\n",
              "      <th></th>\n",
              "      <th>Dados Ausentes</th>\n",
              "    </tr>\n",
              "  </thead>\n",
              "  <tbody>\n",
              "    <tr>\n",
              "      <th>playlist_uploader_id</th>\n",
              "      <td>1.0</td>\n",
              "    </tr>\n",
              "    <tr>\n",
              "      <th>resolution</th>\n",
              "      <td>1.0</td>\n",
              "    </tr>\n",
              "    <tr>\n",
              "      <th>stretched_ratio</th>\n",
              "      <td>1.0</td>\n",
              "    </tr>\n",
              "    <tr>\n",
              "      <th>playlist_uploader</th>\n",
              "      <td>1.0</td>\n",
              "    </tr>\n",
              "    <tr>\n",
              "      <th>playlist_title</th>\n",
              "      <td>1.0</td>\n",
              "    </tr>\n",
              "    <tr>\n",
              "      <th>...</th>\n",
              "      <td>...</td>\n",
              "    </tr>\n",
              "    <tr>\n",
              "      <th>extractor_key</th>\n",
              "      <td>0.0</td>\n",
              "    </tr>\n",
              "    <tr>\n",
              "      <th>webpage_url_basename</th>\n",
              "      <td>0.0</td>\n",
              "    </tr>\n",
              "    <tr>\n",
              "      <th>extractor</th>\n",
              "      <td>0.0</td>\n",
              "    </tr>\n",
              "    <tr>\n",
              "      <th>channel</th>\n",
              "      <td>0.0</td>\n",
              "    </tr>\n",
              "    <tr>\n",
              "      <th>Unnamed: 0</th>\n",
              "      <td>0.0</td>\n",
              "    </tr>\n",
              "  </tbody>\n",
              "</table>\n",
              "<p>65 rows × 1 columns</p>\n",
              "</div>\n",
              "      <button class=\"colab-df-convert\" onclick=\"convertToInteractive('df-9c7d05c9-34c3-4952-83e5-f4c616de8949')\"\n",
              "              title=\"Convert this dataframe to an interactive table.\"\n",
              "              style=\"display:none;\">\n",
              "        \n",
              "  <svg xmlns=\"http://www.w3.org/2000/svg\" height=\"24px\"viewBox=\"0 0 24 24\"\n",
              "       width=\"24px\">\n",
              "    <path d=\"M0 0h24v24H0V0z\" fill=\"none\"/>\n",
              "    <path d=\"M18.56 5.44l.94 2.06.94-2.06 2.06-.94-2.06-.94-.94-2.06-.94 2.06-2.06.94zm-11 1L8.5 8.5l.94-2.06 2.06-.94-2.06-.94L8.5 2.5l-.94 2.06-2.06.94zm10 10l.94 2.06.94-2.06 2.06-.94-2.06-.94-.94-2.06-.94 2.06-2.06.94z\"/><path d=\"M17.41 7.96l-1.37-1.37c-.4-.4-.92-.59-1.43-.59-.52 0-1.04.2-1.43.59L10.3 9.45l-7.72 7.72c-.78.78-.78 2.05 0 2.83L4 21.41c.39.39.9.59 1.41.59.51 0 1.02-.2 1.41-.59l7.78-7.78 2.81-2.81c.8-.78.8-2.07 0-2.86zM5.41 20L4 18.59l7.72-7.72 1.47 1.35L5.41 20z\"/>\n",
              "  </svg>\n",
              "      </button>\n",
              "      \n",
              "  <style>\n",
              "    .colab-df-container {\n",
              "      display:flex;\n",
              "      flex-wrap:wrap;\n",
              "      gap: 12px;\n",
              "    }\n",
              "\n",
              "    .colab-df-convert {\n",
              "      background-color: #E8F0FE;\n",
              "      border: none;\n",
              "      border-radius: 50%;\n",
              "      cursor: pointer;\n",
              "      display: none;\n",
              "      fill: #1967D2;\n",
              "      height: 32px;\n",
              "      padding: 0 0 0 0;\n",
              "      width: 32px;\n",
              "    }\n",
              "\n",
              "    .colab-df-convert:hover {\n",
              "      background-color: #E2EBFA;\n",
              "      box-shadow: 0px 1px 2px rgba(60, 64, 67, 0.3), 0px 1px 3px 1px rgba(60, 64, 67, 0.15);\n",
              "      fill: #174EA6;\n",
              "    }\n",
              "\n",
              "    [theme=dark] .colab-df-convert {\n",
              "      background-color: #3B4455;\n",
              "      fill: #D2E3FC;\n",
              "    }\n",
              "\n",
              "    [theme=dark] .colab-df-convert:hover {\n",
              "      background-color: #434B5C;\n",
              "      box-shadow: 0px 1px 3px 1px rgba(0, 0, 0, 0.15);\n",
              "      filter: drop-shadow(0px 1px 2px rgba(0, 0, 0, 0.3));\n",
              "      fill: #FFFFFF;\n",
              "    }\n",
              "  </style>\n",
              "\n",
              "      <script>\n",
              "        const buttonEl =\n",
              "          document.querySelector('#df-9c7d05c9-34c3-4952-83e5-f4c616de8949 button.colab-df-convert');\n",
              "        buttonEl.style.display =\n",
              "          google.colab.kernel.accessAllowed ? 'block' : 'none';\n",
              "\n",
              "        async function convertToInteractive(key) {\n",
              "          const element = document.querySelector('#df-9c7d05c9-34c3-4952-83e5-f4c616de8949');\n",
              "          const dataTable =\n",
              "            await google.colab.kernel.invokeFunction('convertToInteractive',\n",
              "                                                     [key], {});\n",
              "          if (!dataTable) return;\n",
              "\n",
              "          const docLinkHtml = 'Like what you see? Visit the ' +\n",
              "            '<a target=\"_blank\" href=https://colab.research.google.com/notebooks/data_table.ipynb>data table notebook</a>'\n",
              "            + ' to learn more about interactive tables.';\n",
              "          element.innerHTML = '';\n",
              "          dataTable['output_type'] = 'display_data';\n",
              "          await google.colab.output.renderOutput(dataTable, element);\n",
              "          const docLink = document.createElement('div');\n",
              "          docLink.innerHTML = docLinkHtml;\n",
              "          element.appendChild(docLink);\n",
              "        }\n",
              "      </script>\n",
              "    </div>\n",
              "  </div>\n",
              "  "
            ],
            "text/plain": [
              "                      Dados Ausentes\n",
              "playlist_uploader_id             1.0\n",
              "resolution                       1.0\n",
              "stretched_ratio                  1.0\n",
              "playlist_uploader                1.0\n",
              "playlist_title                   1.0\n",
              "...                              ...\n",
              "extractor_key                    0.0\n",
              "webpage_url_basename             0.0\n",
              "extractor                        0.0\n",
              "channel                          0.0\n",
              "Unnamed: 0                       0.0\n",
              "\n",
              "[65 rows x 1 columns]"
            ]
          },
          "metadata": {},
          "execution_count": 13
        }
      ]
    },
    {
      "cell_type": "code",
      "source": [
        "#criando um DataFrame Apenas com os videos que gostei\n",
        "canais_que_gostei = df_com_rotulo[df_com_rotulo.rotulo_thales == 1]\n",
        "\n",
        "#coisas gerais sobre os vídeos\n",
        "print('Tempo médio dos vídeos que gostei: {:.2f} segundos.'.format(canais_que_gostei.duration.mean()))\n",
        "print('Número de visualizações médias dos vídeos que gostei: {:.2f}'.format(canais_que_gostei.view_count.mean()))\n",
        "print('Principal categoria de vídeo: {}'.format(canais_que_gostei.categories.value_counts().index[0].split(\"'\")[1]))\n",
        "\n",
        "#top 5 canais que gostei\n",
        "canais_que_gostei.channel.value_counts()[:5].to_frame('Top 5 Canais que gostei')"
      ],
      "metadata": {
        "colab": {
          "base_uri": "https://localhost:8080/",
          "height": 261
        },
        "id": "NmhPlrsZgSMM",
        "outputId": "c66ff37a-1b57-4a3b-9804-498c0580d0db"
      },
      "execution_count": 76,
      "outputs": [
        {
          "output_type": "stream",
          "name": "stdout",
          "text": [
            "Tempo médio dos vídeos que gostei: 783.98 segundos.\n",
            "Número de visualizações médias dos vídeos que gostei: 173028.83\n",
            "Principal categoria de vídeo: Entertainment\n"
          ]
        },
        {
          "output_type": "execute_result",
          "data": {
            "text/html": [
              "\n",
              "  <div id=\"df-60734039-9031-4c6e-9ddc-7d8cd7649c9d\">\n",
              "    <div class=\"colab-df-container\">\n",
              "      <div>\n",
              "<style scoped>\n",
              "    .dataframe tbody tr th:only-of-type {\n",
              "        vertical-align: middle;\n",
              "    }\n",
              "\n",
              "    .dataframe tbody tr th {\n",
              "        vertical-align: top;\n",
              "    }\n",
              "\n",
              "    .dataframe thead th {\n",
              "        text-align: right;\n",
              "    }\n",
              "</style>\n",
              "<table border=\"1\" class=\"dataframe\">\n",
              "  <thead>\n",
              "    <tr style=\"text-align: right;\">\n",
              "      <th></th>\n",
              "      <th>Top 5 Canais que gostei</th>\n",
              "    </tr>\n",
              "  </thead>\n",
              "  <tbody>\n",
              "    <tr>\n",
              "      <th>Cortes Podcast</th>\n",
              "      <td>33</td>\n",
              "    </tr>\n",
              "    <tr>\n",
              "      <th>Cortes Podcast One</th>\n",
              "      <td>14</td>\n",
              "    </tr>\n",
              "    <tr>\n",
              "      <th>F.C Cortes</th>\n",
              "      <td>11</td>\n",
              "    </tr>\n",
              "    <tr>\n",
              "      <th>Cortes do Flow [OFICIAL]</th>\n",
              "      <td>10</td>\n",
              "    </tr>\n",
              "    <tr>\n",
              "      <th>Cortes do Inteligência [OFICIAL]</th>\n",
              "      <td>6</td>\n",
              "    </tr>\n",
              "  </tbody>\n",
              "</table>\n",
              "</div>\n",
              "      <button class=\"colab-df-convert\" onclick=\"convertToInteractive('df-60734039-9031-4c6e-9ddc-7d8cd7649c9d')\"\n",
              "              title=\"Convert this dataframe to an interactive table.\"\n",
              "              style=\"display:none;\">\n",
              "        \n",
              "  <svg xmlns=\"http://www.w3.org/2000/svg\" height=\"24px\"viewBox=\"0 0 24 24\"\n",
              "       width=\"24px\">\n",
              "    <path d=\"M0 0h24v24H0V0z\" fill=\"none\"/>\n",
              "    <path d=\"M18.56 5.44l.94 2.06.94-2.06 2.06-.94-2.06-.94-.94-2.06-.94 2.06-2.06.94zm-11 1L8.5 8.5l.94-2.06 2.06-.94-2.06-.94L8.5 2.5l-.94 2.06-2.06.94zm10 10l.94 2.06.94-2.06 2.06-.94-2.06-.94-.94-2.06-.94 2.06-2.06.94z\"/><path d=\"M17.41 7.96l-1.37-1.37c-.4-.4-.92-.59-1.43-.59-.52 0-1.04.2-1.43.59L10.3 9.45l-7.72 7.72c-.78.78-.78 2.05 0 2.83L4 21.41c.39.39.9.59 1.41.59.51 0 1.02-.2 1.41-.59l7.78-7.78 2.81-2.81c.8-.78.8-2.07 0-2.86zM5.41 20L4 18.59l7.72-7.72 1.47 1.35L5.41 20z\"/>\n",
              "  </svg>\n",
              "      </button>\n",
              "      \n",
              "  <style>\n",
              "    .colab-df-container {\n",
              "      display:flex;\n",
              "      flex-wrap:wrap;\n",
              "      gap: 12px;\n",
              "    }\n",
              "\n",
              "    .colab-df-convert {\n",
              "      background-color: #E8F0FE;\n",
              "      border: none;\n",
              "      border-radius: 50%;\n",
              "      cursor: pointer;\n",
              "      display: none;\n",
              "      fill: #1967D2;\n",
              "      height: 32px;\n",
              "      padding: 0 0 0 0;\n",
              "      width: 32px;\n",
              "    }\n",
              "\n",
              "    .colab-df-convert:hover {\n",
              "      background-color: #E2EBFA;\n",
              "      box-shadow: 0px 1px 2px rgba(60, 64, 67, 0.3), 0px 1px 3px 1px rgba(60, 64, 67, 0.15);\n",
              "      fill: #174EA6;\n",
              "    }\n",
              "\n",
              "    [theme=dark] .colab-df-convert {\n",
              "      background-color: #3B4455;\n",
              "      fill: #D2E3FC;\n",
              "    }\n",
              "\n",
              "    [theme=dark] .colab-df-convert:hover {\n",
              "      background-color: #434B5C;\n",
              "      box-shadow: 0px 1px 3px 1px rgba(0, 0, 0, 0.15);\n",
              "      filter: drop-shadow(0px 1px 2px rgba(0, 0, 0, 0.3));\n",
              "      fill: #FFFFFF;\n",
              "    }\n",
              "  </style>\n",
              "\n",
              "      <script>\n",
              "        const buttonEl =\n",
              "          document.querySelector('#df-60734039-9031-4c6e-9ddc-7d8cd7649c9d button.colab-df-convert');\n",
              "        buttonEl.style.display =\n",
              "          google.colab.kernel.accessAllowed ? 'block' : 'none';\n",
              "\n",
              "        async function convertToInteractive(key) {\n",
              "          const element = document.querySelector('#df-60734039-9031-4c6e-9ddc-7d8cd7649c9d');\n",
              "          const dataTable =\n",
              "            await google.colab.kernel.invokeFunction('convertToInteractive',\n",
              "                                                     [key], {});\n",
              "          if (!dataTable) return;\n",
              "\n",
              "          const docLinkHtml = 'Like what you see? Visit the ' +\n",
              "            '<a target=\"_blank\" href=https://colab.research.google.com/notebooks/data_table.ipynb>data table notebook</a>'\n",
              "            + ' to learn more about interactive tables.';\n",
              "          element.innerHTML = '';\n",
              "          dataTable['output_type'] = 'display_data';\n",
              "          await google.colab.output.renderOutput(dataTable, element);\n",
              "          const docLink = document.createElement('div');\n",
              "          docLink.innerHTML = docLinkHtml;\n",
              "          element.appendChild(docLink);\n",
              "        }\n",
              "      </script>\n",
              "    </div>\n",
              "  </div>\n",
              "  "
            ],
            "text/plain": [
              "                                  Top 5 Canais que gostei\n",
              "Cortes Podcast                                         33\n",
              "Cortes Podcast One                                     14\n",
              "F.C Cortes                                             11\n",
              "Cortes do Flow [OFICIAL]                               10\n",
              "Cortes do Inteligência [OFICIAL]                        6"
            ]
          },
          "metadata": {},
          "execution_count": 76
        }
      ]
    },
    {
      "cell_type": "markdown",
      "source": [
        "visualizações"
      ],
      "metadata": {
        "id": "oh5kTtAlkBrp"
      }
    },
    {
      "cell_type": "code",
      "source": [
        "#criando o fig e o ax no matplotlib\n",
        "fig,ax = plt.subplots(figsize=(8,6),dpi=90)\n",
        "\n",
        "#criando o gráfico\n",
        "sns.scatterplot(x='duration',y='view_count',hue='rotulo_thales',\n",
        "                data=df_com_rotulo,ax=ax,palette=['#BEBEBE','#1167b1'])\n",
        "ax.set_frame_on(False)\n",
        "ax.tick_params(axis='both',colors='grey',length=0,labelsize=12)\n",
        "ax.set_xlabel('Duração do Vídeo',labelpad=20,fontdict={'fontsize':12},color='#4c4c4c')\n",
        "ax.set_ylabel('Quantidade de Views',labelpad=20,fontdict={'fontsize':12},color='#4c4c4c')\n",
        "ax.legend(loc='best',title='Rótulo Thales',framealpha=0.3)\n",
        "ax.set_title('Tempo do Vídeo x Quantidade de Views',loc='center',pad=20,fontdict={'fontsize':20},color='grey')\n",
        "ax.grid(linestyle='-.',lw=0.3,aa=True)\n",
        "\n",
        "#plotando os gráficos\n",
        "plt.tight_layout();"
      ],
      "metadata": {
        "colab": {
          "base_uri": "https://localhost:8080/",
          "height": 546
        },
        "id": "lt-mTb75gLg9",
        "outputId": "4afc88ce-35d8-490b-aefd-27285991b2b1"
      },
      "execution_count": 132,
      "outputs": [
        {
          "output_type": "display_data",
          "data": {
            "image/png": "[encoded data removed]",
            "text/plain": [
              "<Figure size 720x540 with 1 Axes>"
            ]
          },
          "metadata": {
            "needs_background": "dark"
          }
        }
      ]
    },
    {
      "cell_type": "markdown",
      "source": [
        "histograma de todos são bem semlehantes"
      ],
      "metadata": {
        "id": "eMtyDG5hn8IU"
      }
    },
    {
      "cell_type": "code",
      "source": [
        "#criando o fig e o ax no matplotlib\n",
        "fig,ax = plt.subplots(figsize=(14,6),ncols=2)\n",
        "\n",
        "#criando um histograma do tempo para todos os vídeos\n",
        "df_com_rotulo.duration.hist(ax=ax[0])\n",
        "ax[0].set_frame_on(False)\n",
        "ax[0].grid(linestyle='-.',lw=0.34,aa=True)\n",
        "ax[0].set_title('Histograma de duração de todos os vídeos',loc='left',pad=20,fontdict={'fontsize':20},color='grey')\n",
        "ax[0].tick_params(axis='both',colors='grey',length=0,labelsize=12)\n",
        "\n",
        "#criando um histograma do tempo para os vídeos que gostei\n",
        "canais_que_gostei.duration.hist(ax=ax[1])\n",
        "ax[1].set_frame_on(False)\n",
        "ax[1].grid(linestyle='-.',lw=0.34,aa=True)\n",
        "ax[1].set_title('Histograma de duração dos vídeos que gostei',loc='left',pad=20,fontdict={'fontsize':20},color='grey')\n",
        "ax[1].tick_params(axis='both',colors='grey',length=0,labelsize=12)\n",
        "\n",
        "#plotando os gráficos\n",
        "plt.tight_layout(pad=2.0);"
      ],
      "metadata": {
        "colab": {
          "base_uri": "https://localhost:8080/",
          "height": 423
        },
        "id": "nTSS5fpAgLi_",
        "outputId": "34d17e64-b58c-456a-ca32-1c8b41cbf1b4"
      },
      "execution_count": 122,
      "outputs": [
        {
          "output_type": "display_data",
          "data": {
            "image/png": "[encoded data removed]",
            "text/plain": [
              "<Figure size 1008x432 with 2 Axes>"
            ]
          },
          "metadata": {
            "needs_background": "dark"
          }
        }
      ]
    },
    {
      "cell_type": "code",
      "source": [
        "df_com_rotulo.tags[4]"
      ],
      "metadata": {
        "colab": {
          "base_uri": "https://localhost:8080/",
          "height": 36
        },
        "id": "7BhMLtewnvpS",
        "outputId": "029d2092-cf26-43c9-b499-10cd2ed5cf7b"
      },
      "execution_count": 138,
      "outputs": [
        {
          "output_type": "execute_result",
          "data": {
            "application/vnd.google.colaboratory.intrinsic+json": {
              "type": "string"
            },
            "text/plain": [
              "\"['flow podcast', 'flow', 'podcast', 'cortes podcast', 'cortes do flow', 'talk flow', 'podpah', 'cortes podpah']\""
            ]
          },
          "metadata": {},
          "execution_count": 138
        }
      ]
    },
    {
      "cell_type": "code",
      "source": [
        "df_com_rotulo.tags"
      ],
      "metadata": {
        "colab": {
          "base_uri": "https://localhost:8080/"
        },
        "id": "uDYY4fJppX7_",
        "outputId": "46fb0ffb-8e63-48cd-ed3c-be848cc3a4a2"
      },
      "execution_count": 142,
      "outputs": [
        {
          "output_type": "execute_result",
          "data": {
            "text/plain": [
              "id\n",
              "hHgT18YeMJo                                                   []\n",
              "c6wfeM5SAkU                                                   []\n",
              "6Jju_-yjWls                                                   []\n",
              "4m2EAlU1W4o    ['flow podcast', 'flow', 'podcast', 'cortes po...\n",
              "dktR8fv98CI    ['flow podcast', 'flow', 'podcast', 'cortes po...\n",
              "                                     ...                        \n",
              "2QbPdCYi1vc    ['ideas y manualidades', 'ideas', 'manualidade...\n",
              "8ovo-qiJNDI    ['CORTES DE PELO RIZADO', 'CORTES PARA PELO RI...\n",
              "SNV3M17LPaA    ['CORTES DE PELO PARA SEÑORAS', 'CORTES DE CAB...\n",
              "SlYirTsPaEI                                                   []\n",
              "t-_uVyDzH1E                                                   []\n",
              "Name: tags, Length: 1246, dtype: object"
            ]
          },
          "metadata": {},
          "execution_count": 142
        }
      ]
    },
    {
      "cell_type": "code",
      "source": [
        "for tag in df_com_rotulo.tags[:5]:\n",
        "  \n"
      ],
      "metadata": {
        "id": "c58LiLV8pX-F"
      },
      "execution_count": null,
      "outputs": []
    },
    {
      "cell_type": "code",
      "source": [
        "resultados_sem_vazios = [i for i in resultados if i is not None]"
      ],
      "metadata": {
        "id": "kQwr0MmQsToR"
      },
      "execution_count": null,
      "outputs": []
    },
    {
      "cell_type": "code",
      "source": [
        "lista = df_com_rotulo.tags[3].split(\"'\")\n",
        "lista_sem_pontuacoes = [i for i in lista if i]"
      ],
      "metadata": {
        "colab": {
          "base_uri": "https://localhost:8080/"
        },
        "id": "c5zWGgLOpYAT",
        "outputId": "5f6de745-9ec4-4571-e478-976da8bfb5d0"
      },
      "execution_count": 156,
      "outputs": [
        {
          "output_type": "execute_result",
          "data": {
            "text/plain": [
              "['[',\n",
              " 'flow podcast',\n",
              " ', ',\n",
              " 'flow',\n",
              " ', ',\n",
              " 'podcast',\n",
              " ', ',\n",
              " 'cortes podcast',\n",
              " ', ',\n",
              " 'cortes do flow',\n",
              " ', ',\n",
              " 'talk flow',\n",
              " ', ',\n",
              " 'podpah',\n",
              " ', ',\n",
              " 'cortes podpah',\n",
              " ']']"
            ]
          },
          "metadata": {},
          "execution_count": 156
        }
      ]
    },
    {
      "cell_type": "code",
      "source": [
        "lista = df_com_rotulo.tags[3].split(\"'\")"
      ],
      "metadata": {
        "id": "oyptMfpBpYDk"
      },
      "execution_count": 157,
      "outputs": []
    },
    {
      "cell_type": "code",
      "source": [
        "for elemento in lista:\n",
        "  if elemento.contains(','):\n",
        "    print(elemento)"
      ],
      "metadata": {
        "colab": {
          "base_uri": "https://localhost:8080/",
          "height": 208
        },
        "id": "yyVhpCossYZM",
        "outputId": "ca08ed8e-4655-4e61-890e-93f12e69edd8"
      },
      "execution_count": 160,
      "outputs": [
        {
          "output_type": "error",
          "ename": "AttributeError",
          "evalue": "ignored",
          "traceback": [
            "\u001b[0;31m---------------------------------------------------------------------------\u001b[0m",
            "\u001b[0;31mAttributeError\u001b[0m                            Traceback (most recent call last)",
            "\u001b[0;32m<ipython-input-160-6ecf93c73e73>\u001b[0m in \u001b[0;36m<module>\u001b[0;34m()\u001b[0m\n\u001b[1;32m      1\u001b[0m \u001b[0;32mfor\u001b[0m \u001b[0melemento\u001b[0m \u001b[0;32min\u001b[0m \u001b[0mlista\u001b[0m\u001b[0;34m:\u001b[0m\u001b[0;34m\u001b[0m\u001b[0;34m\u001b[0m\u001b[0m\n\u001b[0;32m----> 2\u001b[0;31m   \u001b[0;32mif\u001b[0m \u001b[0melemento\u001b[0m\u001b[0;34m.\u001b[0m\u001b[0mcontains\u001b[0m\u001b[0;34m(\u001b[0m\u001b[0;34m','\u001b[0m\u001b[0;34m)\u001b[0m\u001b[0;34m:\u001b[0m\u001b[0;34m\u001b[0m\u001b[0;34m\u001b[0m\u001b[0m\n\u001b[0m\u001b[1;32m      3\u001b[0m     \u001b[0mprint\u001b[0m\u001b[0;34m(\u001b[0m\u001b[0melemento\u001b[0m\u001b[0;34m)\u001b[0m\u001b[0;34m\u001b[0m\u001b[0;34m\u001b[0m\u001b[0m\n",
            "\u001b[0;31mAttributeError\u001b[0m: 'str' object has no attribute 'contains'"
          ]
        }
      ]
    },
    {
      "cell_type": "code",
      "source": [
        ""
      ],
      "metadata": {
        "id": "EyVQQl8KsYdl"
      },
      "execution_count": null,
      "outputs": []
    },
    {
      "cell_type": "markdown",
      "source": [
        "## Escolha das Features\n",
        "- dropar\n",
        "- pipeline\n",
        "- normalização\n",
        "-treino e teste"
      ],
      "metadata": {
        "id": "lAh3ysFz2Z5P"
      }
    },
    {
      "cell_type": "code",
      "source": [
        "#\n",
        "manter = ['title','description','description','tags','upload_date','uploader','duration','view_count','rotulo_thales','categories']"
      ],
      "metadata": {
        "id": "WRyHbkXn2cMS"
      },
      "execution_count": null,
      "outputs": []
    },
    {
      "cell_type": "code",
      "source": [
        ""
      ],
      "metadata": {
        "id": "5jGHYYpC2cdg"
      },
      "execution_count": null,
      "outputs": []
    },
    {
      "cell_type": "markdown",
      "metadata": {
        "id": "BMVBzsi8u45P"
      },
      "source": [
        "#Modelagem\n",
        "\n",
        "texto texto\n",
        "\n",
        "random forest"
      ]
    },
    {
      "cell_type": "code",
      "metadata": {
        "id": "lUMJLxzwu61K"
      },
      "source": [
        ""
      ],
      "execution_count": null,
      "outputs": []
    },
    {
      "cell_type": "code",
      "metadata": {
        "id": "61m0e3qRu7Ju"
      },
      "source": [
        ""
      ],
      "execution_count": null,
      "outputs": []
    },
    {
      "cell_type": "code",
      "metadata": {
        "id": "6BWF9E58u7Ls"
      },
      "source": [
        ""
      ],
      "execution_count": null,
      "outputs": []
    },
    {
      "cell_type": "markdown",
      "metadata": {
        "id": "QfEZd0Rdu7ZX"
      },
      "source": [
        "#Colocando em *Produção*\n",
        "\n",
        "texto texto"
      ]
    },
    {
      "cell_type": "code",
      "metadata": {
        "id": "FhwIyCyru9IY"
      },
      "source": [
        ""
      ],
      "execution_count": null,
      "outputs": []
    },
    {
      "cell_type": "code",
      "metadata": {
        "id": "WCPUuRp1u9mt"
      },
      "source": [
        ""
      ],
      "execution_count": null,
      "outputs": []
    },
    {
      "cell_type": "code",
      "metadata": {
        "id": "HbpXA1GMu9op"
      },
      "source": [
        ""
      ],
      "execution_count": null,
      "outputs": []
    },
    {
      "cell_type": "markdown",
      "metadata": {
        "id": "nZD5nXVZwoNM"
      },
      "source": [
        "#Conclusões\n",
        "\n",
        "* x\n",
        "* x\n",
        "* uso de NLP\n",
        "* x"
      ]
    }
  ]
}